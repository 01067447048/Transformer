{
 "cells": [
  {
   "cell_type": "code",
   "execution_count": 1,
   "id": "7aa90559",
   "metadata": {},
   "outputs": [
    {
     "name": "stdout",
     "output_type": "stream",
     "text": [
      "Collecting tensorflow_datasets\n",
      "  Downloading tensorflow_datasets-4.6.0-py3-none-any.whl (4.3 MB)\n",
      "\u001b[K     |████████████████████████████████| 4.3 MB 12.1 MB/s eta 0:00:01\n",
      "\u001b[?25hCollecting toml\n",
      "  Downloading toml-0.10.2-py2.py3-none-any.whl (16 kB)\n",
      "Collecting dill\n",
      "  Downloading dill-0.3.5.1-py2.py3-none-any.whl (95 kB)\n",
      "\u001b[K     |████████████████████████████████| 95 kB 4.0 MB/s eta 0:00:011\n",
      "\u001b[?25hCollecting etils[epath]\n",
      "  Downloading etils-0.6.0-py3-none-any.whl (98 kB)\n",
      "\u001b[K     |████████████████████████████████| 98 kB 5.0 MB/s eta 0:00:011\n",
      "\u001b[?25hRequirement already satisfied: termcolor in /home/dclab/anaconda3/envs/auto_encode/lib/python3.8/site-packages (from tensorflow_datasets) (1.1.0)\n",
      "Requirement already satisfied: tqdm in /home/dclab/anaconda3/envs/auto_encode/lib/python3.8/site-packages (from tensorflow_datasets) (4.63.0)\n",
      "Collecting tensorflow-metadata\n",
      "  Downloading tensorflow_metadata-1.9.0-py3-none-any.whl (51 kB)\n",
      "\u001b[K     |████████████████████████████████| 51 kB 4.7 MB/s eta 0:00:01\n",
      "\u001b[?25hRequirement already satisfied: protobuf>=3.12.2 in /home/dclab/anaconda3/envs/auto_encode/lib/python3.8/site-packages (from tensorflow_datasets) (3.19.4)\n",
      "Requirement already satisfied: numpy in /home/dclab/anaconda3/envs/auto_encode/lib/python3.8/site-packages (from tensorflow_datasets) (1.22.3)\n",
      "Collecting promise\n",
      "  Using cached promise-2.3.tar.gz (19 kB)\n",
      "Requirement already satisfied: requests>=2.19.0 in /home/dclab/anaconda3/envs/auto_encode/lib/python3.8/site-packages (from tensorflow_datasets) (2.27.1)\n",
      "Requirement already satisfied: importlib-resources in /home/dclab/anaconda3/envs/auto_encode/lib/python3.8/site-packages (from tensorflow_datasets) (5.2.0)\n",
      "Requirement already satisfied: six in /home/dclab/anaconda3/envs/auto_encode/lib/python3.8/site-packages (from tensorflow_datasets) (1.16.0)\n",
      "Requirement already satisfied: absl-py in /home/dclab/anaconda3/envs/auto_encode/lib/python3.8/site-packages (from tensorflow_datasets) (1.0.0)\n",
      "Requirement already satisfied: urllib3<1.27,>=1.21.1 in /home/dclab/anaconda3/envs/auto_encode/lib/python3.8/site-packages (from requests>=2.19.0->tensorflow_datasets) (1.26.9)\n",
      "Requirement already satisfied: idna<4,>=2.5 in /home/dclab/anaconda3/envs/auto_encode/lib/python3.8/site-packages (from requests>=2.19.0->tensorflow_datasets) (3.3)\n",
      "Requirement already satisfied: charset-normalizer~=2.0.0 in /home/dclab/anaconda3/envs/auto_encode/lib/python3.8/site-packages (from requests>=2.19.0->tensorflow_datasets) (2.0.12)\n",
      "Requirement already satisfied: certifi>=2017.4.17 in /home/dclab/anaconda3/envs/auto_encode/lib/python3.8/site-packages (from requests>=2.19.0->tensorflow_datasets) (2022.6.15)\n",
      "Requirement already satisfied: zipp in /home/dclab/anaconda3/envs/auto_encode/lib/python3.8/site-packages (from etils[epath]->tensorflow_datasets) (3.8.0)\n",
      "Requirement already satisfied: typing_extensions in /home/dclab/anaconda3/envs/auto_encode/lib/python3.8/site-packages (from etils[epath]->tensorflow_datasets) (4.1.1)\n",
      "Collecting googleapis-common-protos<2,>=1.52.0\n",
      "  Downloading googleapis_common_protos-1.56.4-py2.py3-none-any.whl (211 kB)\n",
      "\u001b[K     |████████████████████████████████| 211 kB 6.0 MB/s eta 0:00:01\n",
      "\u001b[?25hBuilding wheels for collected packages: promise\n",
      "  Building wheel for promise (setup.py) ... \u001b[?25ldone\n",
      "\u001b[?25h  Created wheel for promise: filename=promise-2.3-py3-none-any.whl size=21503 sha256=9e88c21252312f5f0c3bd5177d5c54fa25e1bafe605c3c8116c6d5479cece432\n",
      "  Stored in directory: /home/dclab/.cache/pip/wheels/54/aa/01/724885182f93150035a2a91bce34a12877e8067a97baaf5dc8\n",
      "Successfully built promise\n",
      "Installing collected packages: etils, googleapis-common-protos, toml, tensorflow-metadata, promise, dill, tensorflow-datasets\n",
      "Successfully installed dill-0.3.5.1 etils-0.6.0 googleapis-common-protos-1.56.4 promise-2.3 tensorflow-datasets-4.6.0 tensorflow-metadata-1.9.0 toml-0.10.2\n",
      "Requirement already satisfied: tensorflow-text==2.8.* in /home/dclab/anaconda3/envs/auto_encode/lib/python3.8/site-packages (2.8.2)\n",
      "Requirement already satisfied: tensorflow-hub>=0.8.0 in /home/dclab/anaconda3/envs/auto_encode/lib/python3.8/site-packages (from tensorflow-text==2.8.*) (0.12.0)\n",
      "Requirement already satisfied: tensorflow<2.9,>=2.8.0 in /home/dclab/anaconda3/envs/auto_encode/lib/python3.8/site-packages (from tensorflow-text==2.8.*) (2.8.0)\n",
      "Requirement already satisfied: google-pasta>=0.1.1 in /home/dclab/anaconda3/envs/auto_encode/lib/python3.8/site-packages (from tensorflow<2.9,>=2.8.0->tensorflow-text==2.8.*) (0.2.0)\n",
      "Requirement already satisfied: tf-estimator-nightly==2.8.0.dev2021122109 in /home/dclab/anaconda3/envs/auto_encode/lib/python3.8/site-packages (from tensorflow<2.9,>=2.8.0->tensorflow-text==2.8.*) (2.8.0.dev2021122109)\n",
      "Requirement already satisfied: grpcio<2.0,>=1.24.3 in /home/dclab/anaconda3/envs/auto_encode/lib/python3.8/site-packages (from tensorflow<2.9,>=2.8.0->tensorflow-text==2.8.*) (1.44.0)\n",
      "Requirement already satisfied: gast>=0.2.1 in /home/dclab/anaconda3/envs/auto_encode/lib/python3.8/site-packages (from tensorflow<2.9,>=2.8.0->tensorflow-text==2.8.*) (0.5.3)\n",
      "Requirement already satisfied: termcolor>=1.1.0 in /home/dclab/anaconda3/envs/auto_encode/lib/python3.8/site-packages (from tensorflow<2.9,>=2.8.0->tensorflow-text==2.8.*) (1.1.0)\n",
      "Requirement already satisfied: keras<2.9,>=2.8.0rc0 in /home/dclab/anaconda3/envs/auto_encode/lib/python3.8/site-packages (from tensorflow<2.9,>=2.8.0->tensorflow-text==2.8.*) (2.8.0)\n",
      "Requirement already satisfied: numpy>=1.20 in /home/dclab/anaconda3/envs/auto_encode/lib/python3.8/site-packages (from tensorflow<2.9,>=2.8.0->tensorflow-text==2.8.*) (1.22.3)\n",
      "Requirement already satisfied: tensorboard<2.9,>=2.8 in /home/dclab/anaconda3/envs/auto_encode/lib/python3.8/site-packages (from tensorflow<2.9,>=2.8.0->tensorflow-text==2.8.*) (2.8.0)\n",
      "Requirement already satisfied: protobuf>=3.9.2 in /home/dclab/anaconda3/envs/auto_encode/lib/python3.8/site-packages (from tensorflow<2.9,>=2.8.0->tensorflow-text==2.8.*) (3.19.4)\n",
      "Requirement already satisfied: absl-py>=0.4.0 in /home/dclab/anaconda3/envs/auto_encode/lib/python3.8/site-packages (from tensorflow<2.9,>=2.8.0->tensorflow-text==2.8.*) (1.0.0)\n",
      "Requirement already satisfied: keras-preprocessing>=1.1.1 in /home/dclab/anaconda3/envs/auto_encode/lib/python3.8/site-packages (from tensorflow<2.9,>=2.8.0->tensorflow-text==2.8.*) (1.1.2)\n",
      "Requirement already satisfied: six>=1.12.0 in /home/dclab/anaconda3/envs/auto_encode/lib/python3.8/site-packages (from tensorflow<2.9,>=2.8.0->tensorflow-text==2.8.*) (1.16.0)\n",
      "Requirement already satisfied: astunparse>=1.6.0 in /home/dclab/anaconda3/envs/auto_encode/lib/python3.8/site-packages (from tensorflow<2.9,>=2.8.0->tensorflow-text==2.8.*) (1.6.3)\n",
      "Requirement already satisfied: flatbuffers>=1.12 in /home/dclab/anaconda3/envs/auto_encode/lib/python3.8/site-packages (from tensorflow<2.9,>=2.8.0->tensorflow-text==2.8.*) (2.0)\n",
      "Requirement already satisfied: setuptools in /home/dclab/anaconda3/envs/auto_encode/lib/python3.8/site-packages (from tensorflow<2.9,>=2.8.0->tensorflow-text==2.8.*) (58.0.4)\n",
      "Requirement already satisfied: wrapt>=1.11.0 in /home/dclab/anaconda3/envs/auto_encode/lib/python3.8/site-packages (from tensorflow<2.9,>=2.8.0->tensorflow-text==2.8.*) (1.14.0)\n",
      "Requirement already satisfied: tensorflow-io-gcs-filesystem>=0.23.1 in /home/dclab/anaconda3/envs/auto_encode/lib/python3.8/site-packages (from tensorflow<2.9,>=2.8.0->tensorflow-text==2.8.*) (0.24.0)\n",
      "Requirement already satisfied: opt-einsum>=2.3.2 in /home/dclab/anaconda3/envs/auto_encode/lib/python3.8/site-packages (from tensorflow<2.9,>=2.8.0->tensorflow-text==2.8.*) (3.3.0)\n",
      "Requirement already satisfied: h5py>=2.9.0 in /home/dclab/anaconda3/envs/auto_encode/lib/python3.8/site-packages (from tensorflow<2.9,>=2.8.0->tensorflow-text==2.8.*) (3.6.0)\n",
      "Requirement already satisfied: typing-extensions>=3.6.6 in /home/dclab/anaconda3/envs/auto_encode/lib/python3.8/site-packages (from tensorflow<2.9,>=2.8.0->tensorflow-text==2.8.*) (4.1.1)\n",
      "Requirement already satisfied: libclang>=9.0.1 in /home/dclab/anaconda3/envs/auto_encode/lib/python3.8/site-packages (from tensorflow<2.9,>=2.8.0->tensorflow-text==2.8.*) (13.0.0)\n",
      "Requirement already satisfied: wheel<1.0,>=0.23.0 in /home/dclab/anaconda3/envs/auto_encode/lib/python3.8/site-packages (from astunparse>=1.6.0->tensorflow<2.9,>=2.8.0->tensorflow-text==2.8.*) (0.37.1)\n",
      "Requirement already satisfied: google-auth<3,>=1.6.3 in /home/dclab/anaconda3/envs/auto_encode/lib/python3.8/site-packages (from tensorboard<2.9,>=2.8->tensorflow<2.9,>=2.8.0->tensorflow-text==2.8.*) (2.6.2)\n"
     ]
    },
    {
     "name": "stdout",
     "output_type": "stream",
     "text": [
      "Requirement already satisfied: markdown>=2.6.8 in /home/dclab/anaconda3/envs/auto_encode/lib/python3.8/site-packages (from tensorboard<2.9,>=2.8->tensorflow<2.9,>=2.8.0->tensorflow-text==2.8.*) (3.3.6)\n",
      "Requirement already satisfied: tensorboard-plugin-wit>=1.6.0 in /home/dclab/anaconda3/envs/auto_encode/lib/python3.8/site-packages (from tensorboard<2.9,>=2.8->tensorflow<2.9,>=2.8.0->tensorflow-text==2.8.*) (1.8.1)\n",
      "Requirement already satisfied: tensorboard-data-server<0.7.0,>=0.6.0 in /home/dclab/anaconda3/envs/auto_encode/lib/python3.8/site-packages (from tensorboard<2.9,>=2.8->tensorflow<2.9,>=2.8.0->tensorflow-text==2.8.*) (0.6.1)\n",
      "Requirement already satisfied: werkzeug>=0.11.15 in /home/dclab/anaconda3/envs/auto_encode/lib/python3.8/site-packages (from tensorboard<2.9,>=2.8->tensorflow<2.9,>=2.8.0->tensorflow-text==2.8.*) (2.0.3)\n",
      "Requirement already satisfied: google-auth-oauthlib<0.5,>=0.4.1 in /home/dclab/anaconda3/envs/auto_encode/lib/python3.8/site-packages (from tensorboard<2.9,>=2.8->tensorflow<2.9,>=2.8.0->tensorflow-text==2.8.*) (0.4.6)\n",
      "Requirement already satisfied: requests<3,>=2.21.0 in /home/dclab/anaconda3/envs/auto_encode/lib/python3.8/site-packages (from tensorboard<2.9,>=2.8->tensorflow<2.9,>=2.8.0->tensorflow-text==2.8.*) (2.27.1)\n",
      "Requirement already satisfied: rsa<5,>=3.1.4 in /home/dclab/anaconda3/envs/auto_encode/lib/python3.8/site-packages (from google-auth<3,>=1.6.3->tensorboard<2.9,>=2.8->tensorflow<2.9,>=2.8.0->tensorflow-text==2.8.*) (4.8)\n",
      "Requirement already satisfied: cachetools<6.0,>=2.0.0 in /home/dclab/anaconda3/envs/auto_encode/lib/python3.8/site-packages (from google-auth<3,>=1.6.3->tensorboard<2.9,>=2.8->tensorflow<2.9,>=2.8.0->tensorflow-text==2.8.*) (5.0.0)\n",
      "Requirement already satisfied: pyasn1-modules>=0.2.1 in /home/dclab/anaconda3/envs/auto_encode/lib/python3.8/site-packages (from google-auth<3,>=1.6.3->tensorboard<2.9,>=2.8->tensorflow<2.9,>=2.8.0->tensorflow-text==2.8.*) (0.2.8)\n",
      "Requirement already satisfied: requests-oauthlib>=0.7.0 in /home/dclab/anaconda3/envs/auto_encode/lib/python3.8/site-packages (from google-auth-oauthlib<0.5,>=0.4.1->tensorboard<2.9,>=2.8->tensorflow<2.9,>=2.8.0->tensorflow-text==2.8.*) (1.3.1)\n",
      "Requirement already satisfied: importlib-metadata>=4.4 in /home/dclab/anaconda3/envs/auto_encode/lib/python3.8/site-packages (from markdown>=2.6.8->tensorboard<2.9,>=2.8->tensorflow<2.9,>=2.8.0->tensorflow-text==2.8.*) (4.11.3)\n",
      "Requirement already satisfied: zipp>=0.5 in /home/dclab/anaconda3/envs/auto_encode/lib/python3.8/site-packages (from importlib-metadata>=4.4->markdown>=2.6.8->tensorboard<2.9,>=2.8->tensorflow<2.9,>=2.8.0->tensorflow-text==2.8.*) (3.8.0)\n",
      "Requirement already satisfied: pyasn1<0.5.0,>=0.4.6 in /home/dclab/anaconda3/envs/auto_encode/lib/python3.8/site-packages (from pyasn1-modules>=0.2.1->google-auth<3,>=1.6.3->tensorboard<2.9,>=2.8->tensorflow<2.9,>=2.8.0->tensorflow-text==2.8.*) (0.4.8)\n",
      "Requirement already satisfied: idna<4,>=2.5 in /home/dclab/anaconda3/envs/auto_encode/lib/python3.8/site-packages (from requests<3,>=2.21.0->tensorboard<2.9,>=2.8->tensorflow<2.9,>=2.8.0->tensorflow-text==2.8.*) (3.3)\n",
      "Requirement already satisfied: charset-normalizer~=2.0.0 in /home/dclab/anaconda3/envs/auto_encode/lib/python3.8/site-packages (from requests<3,>=2.21.0->tensorboard<2.9,>=2.8->tensorflow<2.9,>=2.8.0->tensorflow-text==2.8.*) (2.0.12)\n",
      "Requirement already satisfied: certifi>=2017.4.17 in /home/dclab/anaconda3/envs/auto_encode/lib/python3.8/site-packages (from requests<3,>=2.21.0->tensorboard<2.9,>=2.8->tensorflow<2.9,>=2.8.0->tensorflow-text==2.8.*) (2022.6.15)\n",
      "Requirement already satisfied: urllib3<1.27,>=1.21.1 in /home/dclab/anaconda3/envs/auto_encode/lib/python3.8/site-packages (from requests<3,>=2.21.0->tensorboard<2.9,>=2.8->tensorflow<2.9,>=2.8.0->tensorflow-text==2.8.*) (1.26.9)\n",
      "Requirement already satisfied: oauthlib>=3.0.0 in /home/dclab/anaconda3/envs/auto_encode/lib/python3.8/site-packages (from requests-oauthlib>=0.7.0->google-auth-oauthlib<0.5,>=0.4.1->tensorboard<2.9,>=2.8->tensorflow<2.9,>=2.8.0->tensorflow-text==2.8.*) (3.2.0)\n"
     ]
    }
   ],
   "source": [
    "!pip install tensorflow_datasets\n",
    "!pip install -U 'tensorflow-text==2.8.*'"
   ]
  },
  {
   "cell_type": "code",
   "execution_count": 2,
   "id": "071238e8",
   "metadata": {},
   "outputs": [
    {
     "name": "stderr",
     "output_type": "stream",
     "text": [
      "/home/dclab/anaconda3/envs/auto_encode/lib/python3.8/site-packages/tqdm/auto.py:22: TqdmWarning: IProgress not found. Please update jupyter and ipywidgets. See https://ipywidgets.readthedocs.io/en/stable/user_install.html\n",
      "  from .autonotebook import tqdm as notebook_tqdm\n"
     ]
    }
   ],
   "source": [
    "import logging\n",
    "import time\n",
    "\n",
    "import numpy as np\n",
    "import matplotlib.pyplot as plt\n",
    "\n",
    "import tensorflow_datasets as tfds\n",
    "import tensorflow as tf\n",
    "\n",
    "# Import tf_text to load the ops used by the tokenizer saved model\n",
    "import tensorflow_text  # pylint: disable=unused-import"
   ]
  },
  {
   "cell_type": "code",
   "execution_count": 3,
   "id": "622f553b",
   "metadata": {},
   "outputs": [],
   "source": [
    "logging.getLogger('tensorflow').setLevel(logging.ERROR)\n",
    "\n",
    "############## Set up End ###################"
   ]
  },
  {
   "cell_type": "code",
   "execution_count": 4,
   "id": "d5bad27e",
   "metadata": {},
   "outputs": [
    {
     "name": "stderr",
     "output_type": "stream",
     "text": [
      "2022-07-27 19:44:08.990868: W tensorflow/core/platform/cloud/google_auth_provider.cc:184] All attempts to get a Google authentication bearer token failed, returning an empty token. Retrieving token from files failed with \"NOT_FOUND: Could not locate the credentials file.\". Retrieving token from GCE failed with \"FAILED_PRECONDITION: Error executing an HTTP request: libcurl code 6 meaning 'Couldn't resolve host name', error details: Could not resolve host: metadata\".\n"
     ]
    },
    {
     "name": "stdout",
     "output_type": "stream",
     "text": [
      "\u001b[1mDownloading and preparing dataset 124.94 MiB (download: 124.94 MiB, generated: Unknown size, total: 124.94 MiB) to ~/tensorflow_datasets/ted_hrlr_translate/pt_to_en/1.0.0...\u001b[0m\n"
     ]
    },
    {
     "name": "stderr",
     "output_type": "stream",
     "text": [
      "Dl Completed...: 0 url [00:00, ? url/s]\n",
      "Dl Size...: 0 MiB [00:00, ? MiB/s]\u001b[A\n",
      "\n",
      "Dl Completed...:   0%|                                                                                                                                                                                                                                          | 0/1 [00:00<?, ? url/s]\n",
      "Dl Size...: 0 MiB [00:00, ? MiB/s]\u001b[A\n",
      "\n",
      "Dl Completed...:   0%|                                                                                                                                                                                                                                          | 0/1 [00:00<?, ? url/s]\n",
      "Dl Size...:   0%|                                                                                                                                                                                                                                             | 0/124 [00:00<?, ? MiB/s]\u001b[A\n",
      "\n",
      "Extraction completed...: 0 file [00:00, ? file/s]\u001b[A\u001b[A\n",
      "Dl Completed...:   0%|                                                                                                                                                                                                                                          | 0/1 [00:01<?, ? url/s]\u001b[A\n",
      "Dl Size...:   1%|█▊                                                                                                                                                                                                                                   | 1/124 [00:01<03:47,  1.85s/ MiB]\u001b[A\n",
      "\n",
      "Extraction completed...: 0 file [00:01, ? file/s]\u001b[A\u001b[A\n",
      "Dl Completed...:   0%|                                                                                                                                                                                                                                          | 0/1 [00:02<?, ? url/s]\u001b[A\n",
      "Dl Size...:   2%|███▋                                                                                                                                                                                                                                 | 2/124 [00:02<01:48,  1.12 MiB/s]\u001b[A\n",
      "\n",
      "Extraction completed...: 0 file [00:02, ? file/s]\u001b[A\u001b[A\n",
      "Dl Completed...:   0%|                                                                                                                                                                                                                                          | 0/1 [00:02<?, ? url/s]\u001b[A\n",
      "Dl Size...:   2%|█████▌                                                                                                                                                                                                                               | 3/124 [00:02<01:08,  1.77 MiB/s]\u001b[A\n",
      "\n",
      "Extraction completed...: 0 file [00:02, ? file/s]\u001b[A\u001b[A\n",
      "Dl Completed...:   0%|                                                                                                                                                                                                                                          | 0/1 [00:02<?, ? url/s]\u001b[A\n",
      "Dl Size...:   3%|███████▍                                                                                                                                                                                                                             | 4/124 [00:02<00:49,  2.44 MiB/s]\u001b[A\n",
      "\n",
      "Extraction completed...: 0 file [00:02, ? file/s]\u001b[A\u001b[A\n",
      "Dl Completed...:   0%|                                                                                                                                                                                                                                          | 0/1 [00:02<?, ? url/s]\u001b[A\n",
      "Dl Size...:   4%|█████████▏                                                                                                                                                                                                                           | 5/124 [00:02<00:38,  3.08 MiB/s]\u001b[A\n",
      "\n",
      "Extraction completed...: 0 file [00:02, ? file/s]\u001b[A\u001b[A\n",
      "Dl Completed...:   0%|                                                                                                                                                                                                                                          | 0/1 [00:02<?, ? url/s]\u001b[A\n",
      "Dl Size...:   5%|███████████                                                                                                                                                                                                                          | 6/124 [00:02<00:32,  3.66 MiB/s]\u001b[A\n",
      "\n",
      "Extraction completed...: 0 file [00:02, ? file/s]\u001b[A\u001b[A\n",
      "Dl Completed...:   0%|                                                                                                                                                                                                                                          | 0/1 [00:02<?, ? url/s]\u001b[A\n",
      "Dl Size...:   6%|████████████▉                                                                                                                                                                                                                        | 7/124 [00:02<00:28,  4.15 MiB/s]\u001b[A\n",
      "\n",
      "Extraction completed...: 0 file [00:02, ? file/s]\u001b[A\u001b[A\n",
      "Dl Completed...:   0%|                                                                                                                                                                                                                                          | 0/1 [00:03<?, ? url/s]\u001b[A\n",
      "Dl Size...:   6%|██████████████▊                                                                                                                                                                                                                      | 8/124 [00:03<00:25,  4.55 MiB/s]\u001b[A\n",
      "\n",
      "Extraction completed...: 0 file [00:03, ? file/s]\u001b[A\u001b[A\n",
      "Dl Completed...:   0%|                                                                                                                                                                                                                                          | 0/1 [00:03<?, ? url/s]\u001b[A\n",
      "Dl Size...:   7%|████████████████▌                                                                                                                                                                                                                    | 9/124 [00:03<00:23,  4.87 MiB/s]\u001b[A\n",
      "\n",
      "Extraction completed...: 0 file [00:03, ? file/s]\u001b[A\u001b[A\n",
      "Dl Completed...:   0%|                                                                                                                                                                                                                                          | 0/1 [00:03<?, ? url/s]\u001b[A\n",
      "Dl Size...:   8%|██████████████████▍                                                                                                                                                                                                                 | 10/124 [00:03<00:22,  5.11 MiB/s]\u001b[A\n",
      "\n",
      "Extraction completed...: 0 file [00:03, ? file/s]\u001b[A\u001b[A\n",
      "Dl Completed...:   0%|                                                                                                                                                                                                                                          | 0/1 [00:03<?, ? url/s]\u001b[A\n",
      "Dl Size...:   9%|████████████████████▏                                                                                                                                                                                                               | 11/124 [00:03<00:21,  5.29 MiB/s]\u001b[A\n",
      "\n",
      "Extraction completed...: 0 file [00:03, ? file/s]\u001b[A\u001b[A\n",
      "Dl Completed...:   0%|                                                                                                                                                                                                                                          | 0/1 [00:03<?, ? url/s]\u001b[A\n",
      "Dl Size...:  10%|██████████████████████                                                                                                                                                                                                              | 12/124 [00:03<00:20,  5.41 MiB/s]\u001b[A\n",
      "\n",
      "Extraction completed...: 0 file [00:03, ? file/s]\u001b[A\u001b[A\n",
      "Dl Completed...:   0%|                                                                                                                                                                                                                                          | 0/1 [00:03<?, ? url/s]\u001b[A\n",
      "Dl Size...:  10%|███████████████████████▉                                                                                                                                                                                                            | 13/124 [00:03<00:20,  5.52 MiB/s]\u001b[A\n",
      "\n",
      "Extraction completed...: 0 file [00:03, ? file/s]\u001b[A\u001b[A\n",
      "Dl Completed...:   0%|                                                                                                                                                                                                                                          | 0/1 [00:04<?, ? url/s]\u001b[A\n",
      "Dl Size...:  11%|█████████████████████████▋                                                                                                                                                                                                          | 14/124 [00:04<00:19,  5.59 MiB/s]\u001b[A\n",
      "\n",
      "Extraction completed...: 0 file [00:04, ? file/s]\u001b[A\u001b[A\n",
      "Dl Completed...:   0%|                                                                                                                                                                                                                                          | 0/1 [00:04<?, ? url/s]\u001b[A\n",
      "Dl Size...:  12%|███████████████████████████▌                                                                                                                                                                                                        | 15/124 [00:04<00:35,  3.03 MiB/s]\u001b[A\n",
      "\n",
      "Extraction completed...: 0 file [00:04, ? file/s]\u001b[A\u001b[A\n",
      "Dl Completed...:   0%|                                                                                                                                                                                                                                          | 0/1 [00:04<?, ? url/s]\u001b[A\n",
      "Dl Size...:  13%|█████████████████████████████▍                                                                                                                                                                                                      | 16/124 [00:04<00:28,  3.81 MiB/s]\u001b[A\n",
      "\n",
      "Dl Completed...:   0%|                                                                                                                                                                                                                                          | 0/1 [00:04<?, ? url/s]\n",
      "Dl Size...:  14%|███████████████████████████████▎                                                                                                                                                                                                    | 17/124 [00:04<00:28,  3.81 MiB/s]\u001b[A\n",
      "\n",
      "Extraction completed...: 0 file [00:04, ? file/s]\u001b[A\u001b[A\n",
      "Dl Completed...:   0%|                                                                                                                                                                                                                                          | 0/1 [00:05<?, ? url/s]\u001b[A\n",
      "Dl Size...:  15%|█████████████████████████████████                                                                                                                                                                                                   | 18/124 [00:05<00:27,  3.91 MiB/s]\u001b[A\n",
      "\n",
      "Extraction completed...: 0 file [00:05, ? file/s]\u001b[A\u001b[A\n",
      "Dl Completed...:   0%|                                                                                                                                                                                                                                          | 0/1 [00:05<?, ? url/s]\u001b[A\n",
      "Dl Size...:  15%|██████████████████████████████████▉                                                                                                                                                                                                 | 19/124 [00:05<00:23,  4.39 MiB/s]\u001b[A\n",
      "\n",
      "Dl Completed...:   0%|                                                                                                                                                                                                                                          | 0/1 [00:05<?, ? url/s]\n",
      "Dl Size...:  16%|████████████████████████████████████▊                                                                                                                                                                                               | 20/124 [00:05<00:23,  4.39 MiB/s]\u001b[A\n",
      "\n",
      "Extraction completed...: 0 file [00:05, ? file/s]\u001b[A\u001b[A\n",
      "Dl Completed...:   0%|                                                                                                                                                                                                                                          | 0/1 [00:05<?, ? url/s]\u001b[A\n",
      "Dl Size...:  17%|██████████████████████████████████████▌                                                                                                                                                                                             | 21/124 [00:05<00:18,  5.42 MiB/s]\u001b[A\n",
      "\n",
      "Extraction completed...: 0 file [00:05, ? file/s]\u001b[A\u001b[A\n",
      "Dl Completed...:   0%|                                                                                                                                                                                                                                          | 0/1 [00:06<?, ? url/s]\u001b[A\n",
      "Dl Size...:  18%|████████████████████████████████████████▍                                                                                                                                                                                           | 22/124 [00:06<00:18,  5.38 MiB/s]\u001b[A\n",
      "\n",
      "Extraction completed...: 0 file [00:06, ? file/s]\u001b[A\u001b[A\n",
      "Dl Completed...:   0%|                                                                                                                                                                                                                                          | 0/1 [00:06<?, ? url/s]\u001b[A\n",
      "Dl Size...:  19%|██████████████████████████████████████████▎                                                                                                                                                                                         | 23/124 [00:06<00:18,  5.36 MiB/s]\u001b[A\n",
      "\n",
      "Extraction completed...: 0 file [00:06, ? file/s]\u001b[A\u001b[A\n",
      "Dl Completed...:   0%|                                                                                                                                                                                                                                          | 0/1 [00:06<?, ? url/s]\u001b[A\n",
      "Dl Size...:  19%|████████████████████████████████████████████▏                                                                                                                                                                                       | 24/124 [00:06<00:18,  5.37 MiB/s]\u001b[A\n",
      "\n",
      "Extraction completed...: 0 file [00:06, ? file/s]\u001b[A\u001b[A\n",
      "Dl Completed...:   0%|                                                                                                                                                                                                                                          | 0/1 [00:06<?, ? url/s]\u001b[A\n"
     ]
    },
    {
     "name": "stderr",
     "output_type": "stream",
     "text": [
      "Dl Size...:  20%|█████████████████████████████████████████████▉                                                                                                                                                                                      | 25/124 [00:06<00:18,  5.39 MiB/s]\u001b[A\n",
      "\n",
      "Extraction completed...: 0 file [00:06, ? file/s]\u001b[A\u001b[A\n",
      "Dl Completed...:   0%|                                                                                                                                                                                                                                          | 0/1 [00:06<?, ? url/s]\u001b[A\n",
      "Dl Size...:  21%|███████████████████████████████████████████████▊                                                                                                                                                                                    | 26/124 [00:06<00:18,  5.41 MiB/s]\u001b[A\n",
      "\n",
      "Extraction completed...: 0 file [00:06, ? file/s]\u001b[A\u001b[A\n",
      "Dl Completed...:   0%|                                                                                                                                                                                                                                          | 0/1 [00:06<?, ? url/s]\u001b[A\n",
      "Dl Size...:  22%|█████████████████████████████████████████████████▋                                                                                                                                                                                  | 27/124 [00:06<00:17,  5.43 MiB/s]\u001b[A\n",
      "\n",
      "Extraction completed...: 0 file [00:06, ? file/s]\u001b[A\u001b[A\n",
      "Dl Completed...:   0%|                                                                                                                                                                                                                                          | 0/1 [00:07<?, ? url/s]\u001b[A\n",
      "Dl Size...:  23%|███████████████████████████████████████████████████▍                                                                                                                                                                                | 28/124 [00:07<00:17,  5.47 MiB/s]\u001b[A\n",
      "\n",
      "Extraction completed...: 0 file [00:07, ? file/s]\u001b[A\u001b[A\n",
      "Dl Completed...:   0%|                                                                                                                                                                                                                                          | 0/1 [00:07<?, ? url/s]\u001b[A\n",
      "Dl Size...:  23%|█████████████████████████████████████████████████████▎                                                                                                                                                                              | 29/124 [00:07<00:17,  5.50 MiB/s]\u001b[A\n",
      "\n",
      "Extraction completed...: 0 file [00:07, ? file/s]\u001b[A\u001b[A\n",
      "Dl Completed...:   0%|                                                                                                                                                                                                                                          | 0/1 [00:07<?, ? url/s]\u001b[A\n",
      "Dl Size...:  24%|███████████████████████████████████████████████████████▏                                                                                                                                                                            | 30/124 [00:07<00:17,  5.53 MiB/s]\u001b[A\n",
      "\n",
      "Extraction completed...: 0 file [00:07, ? file/s]\u001b[A\u001b[A\n",
      "Dl Completed...:   0%|                                                                                                                                                                                                                                          | 0/1 [00:07<?, ? url/s]\u001b[A\n",
      "Dl Size...:  25%|█████████████████████████████████████████████████████████                                                                                                                                                                           | 31/124 [00:07<00:16,  5.56 MiB/s]\u001b[A\n",
      "\n",
      "Extraction completed...: 0 file [00:07, ? file/s]\u001b[A\u001b[A\n",
      "Dl Completed...:   0%|                                                                                                                                                                                                                                          | 0/1 [00:07<?, ? url/s]\u001b[A\n",
      "Dl Size...:  26%|██████████████████████████████████████████████████████████▊                                                                                                                                                                         | 32/124 [00:07<00:16,  5.59 MiB/s]\u001b[A\n",
      "\n",
      "Extraction completed...: 0 file [00:07, ? file/s]\u001b[A\u001b[A\n",
      "Dl Completed...:   0%|                                                                                                                                                                                                                                          | 0/1 [00:08<?, ? url/s]\u001b[A\n",
      "Dl Size...:  27%|████████████████████████████████████████████████████████████▋                                                                                                                                                                       | 33/124 [00:08<00:16,  5.62 MiB/s]\u001b[A\n",
      "\n",
      "Extraction completed...: 0 file [00:08, ? file/s]\u001b[A\u001b[A\n",
      "Dl Completed...:   0%|                                                                                                                                                                                                                                          | 0/1 [00:08<?, ? url/s]\u001b[A\n",
      "Dl Size...:  27%|██████████████████████████████████████████████████████████████▌                                                                                                                                                                     | 34/124 [00:08<00:15,  5.64 MiB/s]\u001b[A\n",
      "\n",
      "Extraction completed...: 0 file [00:08, ? file/s]\u001b[A\u001b[A\n",
      "Dl Completed...:   0%|                                                                                                                                                                                                                                          | 0/1 [00:08<?, ? url/s]\u001b[A\n",
      "Dl Size...:  28%|████████████████████████████████████████████████████████████████▎                                                                                                                                                                   | 35/124 [00:08<00:15,  5.66 MiB/s]\u001b[A\n",
      "\n",
      "Extraction completed...: 0 file [00:08, ? file/s]\u001b[A\u001b[A\n",
      "Dl Completed...:   0%|                                                                                                                                                                                                                                          | 0/1 [00:08<?, ? url/s]\u001b[A\n",
      "Dl Size...:  29%|██████████████████████████████████████████████████████████████████▏                                                                                                                                                                 | 36/124 [00:08<00:15,  5.68 MiB/s]\u001b[A\n",
      "\n",
      "Extraction completed...: 0 file [00:08, ? file/s]\u001b[A\u001b[A\n",
      "Dl Completed...:   0%|                                                                                                                                                                                                                                          | 0/1 [00:08<?, ? url/s]\u001b[A\n",
      "Dl Size...:  30%|████████████████████████████████████████████████████████████████████                                                                                                                                                                | 37/124 [00:08<00:15,  5.70 MiB/s]\u001b[A\n",
      "\n",
      "Extraction completed...: 0 file [00:08, ? file/s]\u001b[A\u001b[A\n",
      "Dl Completed...:   0%|                                                                                                                                                                                                                                          | 0/1 [00:08<?, ? url/s]\u001b[A\n",
      "Dl Size...:  31%|█████████████████████████████████████████████████████████████████████▊                                                                                                                                                              | 38/124 [00:08<00:15,  5.71 MiB/s]\u001b[A\n",
      "\n",
      "Extraction completed...: 0 file [00:08, ? file/s]\u001b[A\u001b[A\n",
      "Dl Completed...:   0%|                                                                                                                                                                                                                                          | 0/1 [00:09<?, ? url/s]\u001b[A\n",
      "Dl Size...:  31%|███████████████████████████████████████████████████████████████████████▋                                                                                                                                                            | 39/124 [00:09<00:14,  5.72 MiB/s]\u001b[A\n",
      "\n",
      "Extraction completed...: 0 file [00:09, ? file/s]\u001b[A\u001b[A\n",
      "Dl Completed...:   0%|                                                                                                                                                                                                                                          | 0/1 [00:09<?, ? url/s]\u001b[A\n",
      "Dl Size...:  32%|█████████████████████████████████████████████████████████████████████████▌                                                                                                                                                          | 40/124 [00:09<00:14,  5.73 MiB/s]\u001b[A\n",
      "\n",
      "Extraction completed...: 0 file [00:09, ? file/s]\u001b[A\u001b[A\n",
      "Dl Completed...:   0%|                                                                                                                                                                                                                                          | 0/1 [00:09<?, ? url/s]\u001b[A\n",
      "Dl Size...:  33%|███████████████████████████████████████████████████████████████████████████▍                                                                                                                                                        | 41/124 [00:09<00:14,  5.73 MiB/s]\u001b[A\n",
      "\n",
      "Extraction completed...: 0 file [00:09, ? file/s]\u001b[A\u001b[A\n",
      "Dl Completed...:   0%|                                                                                                                                                                                                                                          | 0/1 [00:09<?, ? url/s]\u001b[A\n",
      "Dl Size...:  34%|█████████████████████████████████████████████████████████████████████████████▏                                                                                                                                                      | 42/124 [00:09<00:14,  5.74 MiB/s]\u001b[A\n",
      "\n",
      "Extraction completed...: 0 file [00:09, ? file/s]\u001b[A\u001b[A\n",
      "Dl Completed...:   0%|                                                                                                                                                                                                                                          | 0/1 [00:09<?, ? url/s]\u001b[A\n",
      "Dl Size...:  35%|███████████████████████████████████████████████████████████████████████████████                                                                                                                                                     | 43/124 [00:09<00:14,  5.74 MiB/s]\u001b[A\n",
      "\n",
      "Extraction completed...: 0 file [00:09, ? file/s]\u001b[A\u001b[A\n",
      "Dl Completed...:   0%|                                                                                                                                                                                                                                          | 0/1 [00:09<?, ? url/s]\u001b[A\n",
      "Dl Size...:  35%|████████████████████████████████████████████████████████████████████████████████▉                                                                                                                                                   | 44/124 [00:09<00:13,  5.75 MiB/s]\u001b[A\n",
      "\n",
      "Extraction completed...: 0 file [00:09, ? file/s]\u001b[A\u001b[A\n",
      "Dl Completed...:   0%|                                                                                                                                                                                                                                          | 0/1 [00:10<?, ? url/s]\u001b[A\n",
      "Dl Size...:  36%|██████████████████████████████████████████████████████████████████████████████████▋                                                                                                                                                 | 45/124 [00:10<00:13,  5.74 MiB/s]\u001b[A\n",
      "\n",
      "Extraction completed...: 0 file [00:10, ? file/s]\u001b[A\u001b[A\n",
      "Dl Completed...:   0%|                                                                                                                                                                                                                                          | 0/1 [00:10<?, ? url/s]\u001b[A\n",
      "Dl Size...:  37%|████████████████████████████████████████████████████████████████████████████████████▌                                                                                                                                               | 46/124 [00:10<00:13,  5.74 MiB/s]\u001b[A\n",
      "\n",
      "Extraction completed...: 0 file [00:10, ? file/s]\u001b[A\u001b[A\n",
      "Dl Completed...:   0%|                                                                                                                                                                                                                                          | 0/1 [00:10<?, ? url/s]\u001b[A\n",
      "Dl Size...:  38%|██████████████████████████████████████████████████████████████████████████████████████▍                                                                                                                                             | 47/124 [00:10<00:13,  5.75 MiB/s]\u001b[A\n",
      "\n",
      "Extraction completed...: 0 file [00:10, ? file/s]\u001b[A\u001b[A\n",
      "Dl Completed...:   0%|                                                                                                                                                                                                                                          | 0/1 [00:10<?, ? url/s]\u001b[A\n",
      "Dl Size...:  39%|████████████████████████████████████████████████████████████████████████████████████████▎                                                                                                                                           | 48/124 [00:10<00:13,  5.75 MiB/s]\u001b[A\n",
      "\n",
      "Extraction completed...: 0 file [00:10, ? file/s]\u001b[A\u001b[A\n",
      "Dl Completed...:   0%|                                                                                                                                                                                                                                          | 0/1 [00:10<?, ? url/s]\u001b[A\n",
      "Dl Size...:  40%|██████████████████████████████████████████████████████████████████████████████████████████                                                                                                                                          | 49/124 [00:10<00:13,  5.75 MiB/s]\u001b[A\n",
      "\n",
      "Extraction completed...: 0 file [00:10, ? file/s]\u001b[A\u001b[A\n",
      "Dl Completed...:   0%|                                                                                                                                                                                                                                          | 0/1 [00:10<?, ? url/s]\u001b[A\n",
      "Dl Size...:  40%|███████████████████████████████████████████████████████████████████████████████████████████▉                                                                                                                                        | 50/124 [00:10<00:12,  5.73 MiB/s]\u001b[A\n",
      "\n",
      "Extraction completed...: 0 file [00:10, ? file/s]\u001b[A\u001b[A\n",
      "Dl Completed...:   0%|                                                                                                                                                                                                                                          | 0/1 [00:11<?, ? url/s]\u001b[A\n"
     ]
    },
    {
     "name": "stderr",
     "output_type": "stream",
     "text": [
      "Dl Size...:  41%|█████████████████████████████████████████████████████████████████████████████████████████████▊                                                                                                                                      | 51/124 [00:11<00:12,  5.75 MiB/s]\u001b[A\n",
      "\n",
      "Extraction completed...: 0 file [00:11, ? file/s]\u001b[A\u001b[A\n",
      "Dl Completed...:   0%|                                                                                                                                                                                                                                          | 0/1 [00:11<?, ? url/s]\u001b[A\n",
      "Dl Size...:  42%|███████████████████████████████████████████████████████████████████████████████████████████████▌                                                                                                                                    | 52/124 [00:11<00:12,  5.76 MiB/s]\u001b[A\n",
      "\n",
      "Extraction completed...: 0 file [00:11, ? file/s]\u001b[A\u001b[A\n",
      "Dl Completed...:   0%|                                                                                                                                                                                                                                          | 0/1 [00:11<?, ? url/s]\u001b[A\n",
      "Dl Size...:  43%|█████████████████████████████████████████████████████████████████████████████████████████████████▍                                                                                                                                  | 53/124 [00:11<00:12,  5.75 MiB/s]\u001b[A\n",
      "\n",
      "Extraction completed...: 0 file [00:11, ? file/s]\u001b[A\u001b[A\n",
      "Dl Completed...:   0%|                                                                                                                                                                                                                                          | 0/1 [00:11<?, ? url/s]\u001b[A\n",
      "Dl Size...:  44%|███████████████████████████████████████████████████████████████████████████████████████████████████▎                                                                                                                                | 54/124 [00:11<00:12,  5.75 MiB/s]\u001b[A\n",
      "\n",
      "Extraction completed...: 0 file [00:11, ? file/s]\u001b[A\u001b[A\n",
      "Dl Completed...:   0%|                                                                                                                                                                                                                                          | 0/1 [00:11<?, ? url/s]\u001b[A\n",
      "Dl Size...:  44%|█████████████████████████████████████████████████████████████████████████████████████████████████████▏                                                                                                                              | 55/124 [00:11<00:12,  5.74 MiB/s]\u001b[A\n",
      "\n",
      "Extraction completed...: 0 file [00:11, ? file/s]\u001b[A\u001b[A\n",
      "Dl Completed...:   0%|                                                                                                                                                                                                                                          | 0/1 [00:12<?, ? url/s]\u001b[A\n",
      "Dl Size...:  45%|██████████████████████████████████████████████████████████████████████████████████████████████████████▉                                                                                                                             | 56/124 [00:12<00:11,  5.74 MiB/s]\u001b[A\n",
      "\n",
      "Extraction completed...: 0 file [00:12, ? file/s]\u001b[A\u001b[A\n",
      "Dl Completed...:   0%|                                                                                                                                                                                                                                          | 0/1 [00:12<?, ? url/s]\u001b[A\n",
      "Dl Size...:  46%|████████████████████████████████████████████████████████████████████████████████████████████████████████▊                                                                                                                           | 57/124 [00:12<00:11,  5.75 MiB/s]\u001b[A\n",
      "\n",
      "Extraction completed...: 0 file [00:12, ? file/s]\u001b[A\u001b[A\n",
      "Dl Completed...:   0%|                                                                                                                                                                                                                                          | 0/1 [00:12<?, ? url/s]\u001b[A\n",
      "Dl Size...:  47%|██████████████████████████████████████████████████████████████████████████████████████████████████████████▋                                                                                                                         | 58/124 [00:12<00:11,  5.75 MiB/s]\u001b[A\n",
      "\n",
      "Extraction completed...: 0 file [00:12, ? file/s]\u001b[A\u001b[A\n",
      "Dl Completed...:   0%|                                                                                                                                                                                                                                          | 0/1 [00:12<?, ? url/s]\u001b[A\n",
      "Dl Size...:  48%|████████████████████████████████████████████████████████████████████████████████████████████████████████████▍                                                                                                                       | 59/124 [00:12<00:11,  5.75 MiB/s]\u001b[A\n",
      "\n",
      "Extraction completed...: 0 file [00:12, ? file/s]\u001b[A\u001b[A\n",
      "Dl Completed...:   0%|                                                                                                                                                                                                                                          | 0/1 [00:12<?, ? url/s]\u001b[A\n",
      "Dl Size...:  48%|██████████████████████████████████████████████████████████████████████████████████████████████████████████████▎                                                                                                                     | 60/124 [00:12<00:11,  5.75 MiB/s]\u001b[A\n",
      "\n",
      "Extraction completed...: 0 file [00:12, ? file/s]\u001b[A\u001b[A\n",
      "Dl Completed...:   0%|                                                                                                                                                                                                                                          | 0/1 [00:12<?, ? url/s]\u001b[A\n",
      "Dl Size...:  49%|████████████████████████████████████████████████████████████████████████████████████████████████████████████████▏                                                                                                                   | 61/124 [00:12<00:10,  5.74 MiB/s]\u001b[A\n",
      "\n",
      "Extraction completed...: 0 file [00:12, ? file/s]\u001b[A\u001b[A\n",
      "Dl Completed...:   0%|                                                                                                                                                                                                                                          | 0/1 [00:13<?, ? url/s]\u001b[A\n",
      "Dl Size...:  50%|██████████████████████████████████████████████████████████████████████████████████████████████████████████████████                                                                                                                  | 62/124 [00:13<00:10,  5.75 MiB/s]\u001b[A\n",
      "\n",
      "Extraction completed...: 0 file [00:13, ? file/s]\u001b[A\u001b[A\n",
      "Dl Completed...:   0%|                                                                                                                                                                                                                                          | 0/1 [00:13<?, ? url/s]\u001b[A\n",
      "Dl Size...:  51%|███████████████████████████████████████████████████████████████████████████████████████████████████████████████████▊                                                                                                                | 63/124 [00:13<00:10,  5.75 MiB/s]\u001b[A\n",
      "\n",
      "Extraction completed...: 0 file [00:13, ? file/s]\u001b[A\u001b[A\n",
      "Dl Completed...:   0%|                                                                                                                                                                                                                                          | 0/1 [00:13<?, ? url/s]\u001b[A\n",
      "Dl Size...:  52%|█████████████████████████████████████████████████████████████████████████████████████████████████████████████████████▋                                                                                                              | 64/124 [00:13<00:10,  5.75 MiB/s]\u001b[A\n",
      "\n",
      "Extraction completed...: 0 file [00:13, ? file/s]\u001b[A\u001b[A\n",
      "Dl Completed...:   0%|                                                                                                                                                                                                                                          | 0/1 [00:13<?, ? url/s]\u001b[A\n",
      "Dl Size...:  52%|███████████████████████████████████████████████████████████████████████████████████████████████████████████████████████▌                                                                                                            | 65/124 [00:13<00:10,  5.74 MiB/s]\u001b[A\n",
      "\n",
      "Extraction completed...: 0 file [00:13, ? file/s]\u001b[A\u001b[A\n",
      "Dl Completed...:   0%|                                                                                                                                                                                                                                          | 0/1 [00:13<?, ? url/s]\u001b[A\n",
      "Dl Size...:  53%|█████████████████████████████████████████████████████████████████████████████████████████████████████████████████████████▎                                                                                                          | 66/124 [00:13<00:10,  5.74 MiB/s]\u001b[A\n",
      "\n",
      "Extraction completed...: 0 file [00:13, ? file/s]\u001b[A\u001b[A\n",
      "Dl Completed...:   0%|                                                                                                                                                                                                                                          | 0/1 [00:13<?, ? url/s]\u001b[A\n",
      "Dl Size...:  54%|███████████████████████████████████████████████████████████████████████████████████████████████████████████████████████████▏                                                                                                        | 67/124 [00:13<00:09,  5.75 MiB/s]\u001b[A\n",
      "\n",
      "Extraction completed...: 0 file [00:13, ? file/s]\u001b[A\u001b[A\n",
      "Dl Completed...:   0%|                                                                                                                                                                                                                                          | 0/1 [00:14<?, ? url/s]\u001b[A\n",
      "Dl Size...:  55%|█████████████████████████████████████████████████████████████████████████████████████████████████████████████████████████████                                                                                                       | 68/124 [00:14<00:09,  5.75 MiB/s]\u001b[A\n",
      "\n",
      "Extraction completed...: 0 file [00:14, ? file/s]\u001b[A\u001b[A\n",
      "Dl Completed...:   0%|                                                                                                                                                                                                                                          | 0/1 [00:14<?, ? url/s]\u001b[A\n",
      "Dl Size...:  56%|██████████████████████████████████████████████████████████████████████████████████████████████████████████████████████████████▊                                                                                                     | 69/124 [00:14<00:09,  5.75 MiB/s]\u001b[A\n",
      "\n",
      "Extraction completed...: 0 file [00:14, ? file/s]\u001b[A\u001b[A\n",
      "Dl Completed...:   0%|                                                                                                                                                                                                                                          | 0/1 [00:14<?, ? url/s]\u001b[A\n",
      "Dl Size...:  56%|████████████████████████████████████████████████████████████████████████████████████████████████████████████████████████████████▋                                                                                                   | 70/124 [00:14<00:09,  5.75 MiB/s]\u001b[A\n",
      "\n",
      "Extraction completed...: 0 file [00:14, ? file/s]\u001b[A\u001b[A\n",
      "Dl Completed...:   0%|                                                                                                                                                                                                                                          | 0/1 [00:14<?, ? url/s]\u001b[A\n",
      "Dl Size...:  57%|██████████████████████████████████████████████████████████████████████████████████████████████████████████████████████████████████▌                                                                                                 | 71/124 [00:14<00:09,  5.75 MiB/s]\u001b[A\n",
      "\n",
      "Extraction completed...: 0 file [00:14, ? file/s]\u001b[A\u001b[A\n",
      "Dl Completed...:   0%|                                                                                                                                                                                                                                          | 0/1 [00:14<?, ? url/s]\u001b[A\n",
      "Dl Size...:  58%|████████████████████████████████████████████████████████████████████████████████████████████████████████████████████████████████████▍                                                                                               | 72/124 [00:14<00:09,  5.75 MiB/s]\u001b[A\n",
      "\n",
      "Extraction completed...: 0 file [00:14, ? file/s]\u001b[A\u001b[A\n",
      "Dl Completed...:   0%|                                                                                                                                                                                                                                          | 0/1 [00:14<?, ? url/s]\u001b[A\n",
      "Dl Size...:  59%|██████████████████████████████████████████████████████████████████████████████████████████████████████████████████████████████████████▏                                                                                             | 73/124 [00:14<00:08,  5.75 MiB/s]\u001b[A\n",
      "\n",
      "Extraction completed...: 0 file [00:14, ? file/s]\u001b[A\u001b[A\n",
      "Dl Completed...:   0%|                                                                                                                                                                                                                                          | 0/1 [00:15<?, ? url/s]\u001b[A\n",
      "Dl Size...:  60%|████████████████████████████████████████████████████████████████████████████████████████████████████████████████████████████████████████                                                                                            | 74/124 [00:15<00:08,  5.75 MiB/s]\u001b[A\n",
      "\n",
      "Extraction completed...: 0 file [00:15, ? file/s]\u001b[A\u001b[A\n",
      "Dl Completed...:   0%|                                                                                                                                                                                                                                          | 0/1 [00:15<?, ? url/s]\u001b[A\n",
      "Dl Size...:  60%|█████████████████████████████████████████████████████████████████████████████████████████████████████████████████████████████████████████▉                                                                                          | 75/124 [00:15<00:08,  5.75 MiB/s]\u001b[A\n",
      "\n",
      "Extraction completed...: 0 file [00:15, ? file/s]\u001b[A\u001b[A\n",
      "Dl Completed...:   0%|                                                                                                                                                                                                                                          | 0/1 [00:15<?, ? url/s]\u001b[A\n",
      "Dl Size...:  61%|███████████████████████████████████████████████████████████████████████████████████████████████████████████████████████████████████████████▋                                                                                        | 76/124 [00:15<00:08,  5.75 MiB/s]\u001b[A\n",
      "\n",
      "Extraction completed...: 0 file [00:15, ? file/s]\u001b[A\u001b[A\n",
      "Dl Completed...:   0%|                                                                                                                                                                                                                                          | 0/1 [00:15<?, ? url/s]\u001b[A\n"
     ]
    },
    {
     "name": "stderr",
     "output_type": "stream",
     "text": [
      "Dl Size...:  62%|█████████████████████████████████████████████████████████████████████████████████████████████████████████████████████████████████████████████▌                                                                                      | 77/124 [00:15<00:08,  5.75 MiB/s]\u001b[A\n",
      "\n",
      "Extraction completed...: 0 file [00:15, ? file/s]\u001b[A\u001b[A\n",
      "Dl Completed...:   0%|                                                                                                                                                                                                                                          | 0/1 [00:15<?, ? url/s]\u001b[A\n",
      "Dl Size...:  63%|███████████████████████████████████████████████████████████████████████████████████████████████████████████████████████████████████████████████▍                                                                                    | 78/124 [00:15<00:08,  5.75 MiB/s]\u001b[A\n",
      "\n",
      "Extraction completed...: 0 file [00:15, ? file/s]\u001b[A\u001b[A\n",
      "Dl Completed...:   0%|                                                                                                                                                                                                                                          | 0/1 [00:16<?, ? url/s]\u001b[A\n",
      "Dl Size...:  64%|█████████████████████████████████████████████████████████████████████████████████████████████████████████████████████████████████████████████████▎                                                                                  | 79/124 [00:16<00:07,  5.75 MiB/s]\u001b[A\n",
      "\n",
      "Extraction completed...: 0 file [00:16, ? file/s]\u001b[A\u001b[A\n",
      "Dl Completed...:   0%|                                                                                                                                                                                                                                          | 0/1 [00:16<?, ? url/s]\u001b[A\n",
      "Dl Size...:  65%|███████████████████████████████████████████████████████████████████████████████████████████████████████████████████████████████████████████████████                                                                                 | 80/124 [00:16<00:07,  5.75 MiB/s]\u001b[A\n",
      "\n",
      "Extraction completed...: 0 file [00:16, ? file/s]\u001b[A\u001b[A\n",
      "Dl Completed...:   0%|                                                                                                                                                                                                                                          | 0/1 [00:16<?, ? url/s]\u001b[A\n",
      "Dl Size...:  65%|████████████████████████████████████████████████████████████████████████████████████████████████████████████████████████████████████████████████████▉                                                                               | 81/124 [00:16<00:07,  5.75 MiB/s]\u001b[A\n",
      "\n",
      "Extraction completed...: 0 file [00:16, ? file/s]\u001b[A\u001b[A\n",
      "Dl Completed...:   0%|                                                                                                                                                                                                                                          | 0/1 [00:16<?, ? url/s]\u001b[A\n",
      "Dl Size...:  66%|██████████████████████████████████████████████████████████████████████████████████████████████████████████████████████████████████████████████████████▊                                                                             | 82/124 [00:16<00:07,  5.75 MiB/s]\u001b[A\n",
      "\n",
      "Extraction completed...: 0 file [00:16, ? file/s]\u001b[A\u001b[A\n",
      "Dl Completed...:   0%|                                                                                                                                                                                                                                          | 0/1 [00:16<?, ? url/s]\u001b[A\n",
      "Dl Size...:  67%|████████████████████████████████████████████████████████████████████████████████████████████████████████████████████████████████████████████████████████▌                                                                           | 83/124 [00:16<00:07,  5.75 MiB/s]\u001b[A\n",
      "\n",
      "Extraction completed...: 0 file [00:16, ? file/s]\u001b[A\u001b[A\n",
      "Dl Completed...:   0%|                                                                                                                                                                                                                                          | 0/1 [00:16<?, ? url/s]\u001b[A\n",
      "Dl Size...:  68%|██████████████████████████████████████████████████████████████████████████████████████████████████████████████████████████████████████████████████████████▍                                                                         | 84/124 [00:16<00:06,  5.75 MiB/s]\u001b[A\n",
      "\n",
      "Extraction completed...: 0 file [00:16, ? file/s]\u001b[A\u001b[A\n",
      "Dl Completed...:   0%|                                                                                                                                                                                                                                          | 0/1 [00:17<?, ? url/s]\u001b[A\n",
      "Dl Size...:  69%|████████████████████████████████████████████████████████████████████████████████████████████████████████████████████████████████████████████████████████████▎                                                                       | 85/124 [00:17<00:06,  5.75 MiB/s]\u001b[A\n",
      "\n",
      "Extraction completed...: 0 file [00:17, ? file/s]\u001b[A\u001b[A\n",
      "Dl Completed...:   0%|                                                                                                                                                                                                                                          | 0/1 [00:17<?, ? url/s]\u001b[A\n",
      "Dl Size...:  69%|██████████████████████████████████████████████████████████████████████████████████████████████████████████████████████████████████████████████████████████████▏                                                                     | 86/124 [00:17<00:06,  5.75 MiB/s]\u001b[A\n",
      "\n",
      "Extraction completed...: 0 file [00:17, ? file/s]\u001b[A\u001b[A\n",
      "Dl Completed...:   0%|                                                                                                                                                                                                                                          | 0/1 [00:17<?, ? url/s]\u001b[A\n",
      "Dl Size...:  70%|███████████████████████████████████████████████████████████████████████████████████████████████████████████████████████████████████████████████████████████████▉                                                                    | 87/124 [00:17<00:06,  5.75 MiB/s]\u001b[A\n",
      "\n",
      "Extraction completed...: 0 file [00:17, ? file/s]\u001b[A\u001b[A\n",
      "Dl Completed...:   0%|                                                                                                                                                                                                                                          | 0/1 [00:17<?, ? url/s]\u001b[A\n",
      "Dl Size...:  71%|█████████████████████████████████████████████████████████████████████████████████████████████████████████████████████████████████████████████████████████████████▊                                                                  | 88/124 [00:17<00:06,  5.76 MiB/s]\u001b[A\n",
      "\n",
      "Extraction completed...: 0 file [00:17, ? file/s]\u001b[A\u001b[A\n",
      "Dl Completed...:   0%|                                                                                                                                                                                                                                          | 0/1 [00:17<?, ? url/s]\u001b[A\n",
      "Dl Size...:  72%|███████████████████████████████████████████████████████████████████████████████████████████████████████████████████████████████████████████████████████████████████▋                                                                | 89/124 [00:17<00:06,  5.76 MiB/s]\u001b[A\n",
      "\n",
      "Extraction completed...: 0 file [00:17, ? file/s]\u001b[A\u001b[A\n",
      "Dl Completed...:   0%|                                                                                                                                                                                                                                          | 0/1 [00:17<?, ? url/s]\u001b[A\n",
      "Dl Size...:  73%|█████████████████████████████████████████████████████████████████████████████████████████████████████████████████████████████████████████████████████████████████████▍                                                              | 90/124 [00:17<00:05,  5.74 MiB/s]\u001b[A\n",
      "\n",
      "Extraction completed...: 0 file [00:17, ? file/s]\u001b[A\u001b[A\n",
      "Dl Completed...:   0%|                                                                                                                                                                                                                                          | 0/1 [00:18<?, ? url/s]\u001b[A\n",
      "Dl Size...:  73%|███████████████████████████████████████████████████████████████████████████████████████████████████████████████████████████████████████████████████████████████████████▎                                                            | 91/124 [00:18<00:05,  5.74 MiB/s]\u001b[A\n",
      "\n",
      "Extraction completed...: 0 file [00:18, ? file/s]\u001b[A\u001b[A\n",
      "Dl Completed...:   0%|                                                                                                                                                                                                                                          | 0/1 [00:18<?, ? url/s]\u001b[A\n",
      "Dl Size...:  74%|█████████████████████████████████████████████████████████████████████████████████████████████████████████████████████████████████████████████████████████████████████████▏                                                          | 92/124 [00:18<00:05,  5.75 MiB/s]\u001b[A\n",
      "\n",
      "Extraction completed...: 0 file [00:18, ? file/s]\u001b[A\u001b[A\n",
      "Dl Completed...:   0%|                                                                                                                                                                                                                                          | 0/1 [00:18<?, ? url/s]\u001b[A\n",
      "Dl Size...:  75%|███████████████████████████████████████████████████████████████████████████████████████████████████████████████████████████████████████████████████████████████████████████                                                         | 93/124 [00:18<00:05,  5.75 MiB/s]\u001b[A\n",
      "\n",
      "Extraction completed...: 0 file [00:18, ? file/s]\u001b[A\u001b[A\n",
      "Dl Completed...:   0%|                                                                                                                                                                                                                                          | 0/1 [00:18<?, ? url/s]\u001b[A\n",
      "Dl Size...:  76%|████████████████████████████████████████████████████████████████████████████████████████████████████████████████████████████████████████████████████████████████████████████▊                                                       | 94/124 [00:18<00:05,  5.75 MiB/s]\u001b[A\n",
      "\n",
      "Extraction completed...: 0 file [00:18, ? file/s]\u001b[A\u001b[A\n",
      "Dl Completed...:   0%|                                                                                                                                                                                                                                          | 0/1 [00:18<?, ? url/s]\u001b[A\n",
      "Dl Size...:  77%|██████████████████████████████████████████████████████████████████████████████████████████████████████████████████████████████████████████████████████████████████████████████▋                                                     | 95/124 [00:18<00:05,  5.75 MiB/s]\u001b[A\n",
      "\n",
      "Extraction completed...: 0 file [00:18, ? file/s]\u001b[A\u001b[A\n",
      "Dl Completed...:   0%|                                                                                                                                                                                                                                          | 0/1 [00:18<?, ? url/s]\u001b[A\n",
      "Dl Size...:  77%|████████████████████████████████████████████████████████████████████████████████████████████████████████████████████████████████████████████████████████████████████████████████▌                                                   | 96/124 [00:18<00:04,  5.75 MiB/s]\u001b[A\n",
      "\n",
      "Extraction completed...: 0 file [00:18, ? file/s]\u001b[A\u001b[A\n",
      "Dl Completed...:   0%|                                                                                                                                                                                                                                          | 0/1 [00:19<?, ? url/s]\u001b[A\n",
      "Dl Size...:  78%|██████████████████████████████████████████████████████████████████████████████████████████████████████████████████████████████████████████████████████████████████████████████████▎                                                 | 97/124 [00:19<00:04,  5.75 MiB/s]\u001b[A\n",
      "\n",
      "Extraction completed...: 0 file [00:19, ? file/s]\u001b[A\u001b[A\n",
      "Dl Completed...:   0%|                                                                                                                                                                                                                                          | 0/1 [00:19<?, ? url/s]\u001b[A\n",
      "Dl Size...:  79%|████████████████████████████████████████████████████████████████████████████████████████████████████████████████████████████████████████████████████████████████████████████████████▏                                               | 98/124 [00:19<00:04,  5.75 MiB/s]\u001b[A\n",
      "\n",
      "Extraction completed...: 0 file [00:19, ? file/s]\u001b[A\u001b[A\n",
      "Dl Completed...:   0%|                                                                                                                                                                                                                                          | 0/1 [00:19<?, ? url/s]\u001b[A\n",
      "Dl Size...:  80%|██████████████████████████████████████████████████████████████████████████████████████████████████████████████████████████████████████████████████████████████████████████████████████                                              | 99/124 [00:19<00:04,  5.75 MiB/s]\u001b[A\n",
      "\n",
      "Extraction completed...: 0 file [00:19, ? file/s]\u001b[A\u001b[A\n",
      "Dl Completed...:   0%|                                                                                                                                                                                                                                          | 0/1 [00:19<?, ? url/s]\u001b[A\n",
      "Dl Size...:  81%|███████████████████████████████████████████████████████████████████████████████████████████████████████████████████████████████████████████████████████████████████████████████████████                                            | 100/124 [00:19<00:04,  5.75 MiB/s]\u001b[A\n",
      "\n",
      "Extraction completed...: 0 file [00:19, ? file/s]\u001b[A\u001b[A\n",
      "Dl Completed...:   0%|                                                                                                                                                                                                                                          | 0/1 [00:19<?, ? url/s]\u001b[A\n",
      "Dl Size...:  81%|████████████████████████████████████████████████████████████████████████████████████████████████████████████████████████████████████████████████████████████████████████████████████████▉                                          | 101/124 [00:19<00:04,  5.75 MiB/s]\u001b[A\n",
      "\n",
      "Extraction completed...: 0 file [00:19, ? file/s]\u001b[A\u001b[A\n",
      "Dl Completed...:   0%|                                                                                                                                                                                                                                          | 0/1 [00:20<?, ? url/s]\u001b[A\n",
      "Dl Size...:  82%|██████████████████████████████████████████████████████████████████████████████████████████████████████████████████████████████████████████████████████████████████████████████████████████▋                                        | 102/124 [00:20<00:03,  5.75 MiB/s]\u001b[A\n",
      "\n",
      "Extraction completed...: 0 file [00:20, ? file/s]\u001b[A\u001b[A\n",
      "Dl Completed...:   0%|                                                                                                                                                                                                                                          | 0/1 [00:20<?, ? url/s]\u001b[A\n"
     ]
    },
    {
     "name": "stderr",
     "output_type": "stream",
     "text": [
      "Dl Size...:  83%|████████████████████████████████████████████████████████████████████████████████████████████████████████████████████████████████████████████████████████████████████████████████████████████▌                                      | 103/124 [00:20<00:03,  5.75 MiB/s]\u001b[A\n",
      "\n",
      "Extraction completed...: 0 file [00:20, ? file/s]\u001b[A\u001b[A\n",
      "Dl Completed...:   0%|                                                                                                                                                                                                                                          | 0/1 [00:20<?, ? url/s]\u001b[A\n",
      "Dl Size...:  84%|██████████████████████████████████████████████████████████████████████████████████████████████████████████████████████████████████████████████████████████████████████████████████████████████▍                                    | 104/124 [00:20<00:03,  5.75 MiB/s]\u001b[A\n",
      "\n",
      "Extraction completed...: 0 file [00:20, ? file/s]\u001b[A\u001b[A\n",
      "Dl Completed...:   0%|                                                                                                                                                                                                                                          | 0/1 [00:20<?, ? url/s]\u001b[A\n",
      "Dl Size...:  85%|████████████████████████████████████████████████████████████████████████████████████████████████████████████████████████████████████████████████████████████████████████████████████████████████▏                                  | 105/124 [00:20<00:03,  5.75 MiB/s]\u001b[A\n",
      "\n",
      "Extraction completed...: 0 file [00:20, ? file/s]\u001b[A\u001b[A\n",
      "Dl Completed...:   0%|                                                                                                                                                                                                                                          | 0/1 [00:20<?, ? url/s]\u001b[A\n",
      "Dl Size...:  85%|██████████████████████████████████████████████████████████████████████████████████████████████████████████████████████████████████████████████████████████████████████████████████████████████████                                 | 106/124 [00:20<00:03,  5.75 MiB/s]\u001b[A\n",
      "\n",
      "Extraction completed...: 0 file [00:20, ? file/s]\u001b[A\u001b[A\n",
      "Dl Completed...:   0%|                                                                                                                                                                                                                                          | 0/1 [00:20<?, ? url/s]\u001b[A\n",
      "Dl Size...:  86%|███████████████████████████████████████████████████████████████████████████████████████████████████████████████████████████████████████████████████████████████████████████████████████████████████▉                               | 107/124 [00:20<00:02,  5.75 MiB/s]\u001b[A\n",
      "\n",
      "Extraction completed...: 0 file [00:20, ? file/s]\u001b[A\u001b[A\n",
      "Dl Completed...:   0%|                                                                                                                                                                                                                                          | 0/1 [00:21<?, ? url/s]\u001b[A\n",
      "Dl Size...:  87%|█████████████████████████████████████████████████████████████████████████████████████████████████████████████████████████████████████████████████████████████████████████████████████████████████████▋                             | 108/124 [00:21<00:02,  5.75 MiB/s]\u001b[A\n",
      "\n",
      "Extraction completed...: 0 file [00:21, ? file/s]\u001b[A\u001b[A\n",
      "Dl Completed...:   0%|                                                                                                                                                                                                                                          | 0/1 [00:21<?, ? url/s]\u001b[A\n",
      "Dl Size...:  88%|███████████████████████████████████████████████████████████████████████████████████████████████████████████████████████████████████████████████████████████████████████████████████████████████████████▌                           | 109/124 [00:21<00:02,  5.75 MiB/s]\u001b[A\n",
      "\n",
      "Extraction completed...: 0 file [00:21, ? file/s]\u001b[A\u001b[A\n",
      "Dl Completed...:   0%|                                                                                                                                                                                                                                          | 0/1 [00:21<?, ? url/s]\u001b[A\n",
      "Dl Size...:  89%|█████████████████████████████████████████████████████████████████████████████████████████████████████████████████████████████████████████████████████████████████████████████████████████████████████████▎                         | 110/124 [00:21<00:02,  5.75 MiB/s]\u001b[A\n",
      "\n",
      "Extraction completed...: 0 file [00:21, ? file/s]\u001b[A\u001b[A\n",
      "Dl Completed...:   0%|                                                                                                                                                                                                                                          | 0/1 [00:21<?, ? url/s]\u001b[A\n",
      "Dl Size...:  90%|███████████████████████████████████████████████████████████████████████████████████████████████████████████████████████████████████████████████████████████████████████████████████████████████████████████▏                       | 111/124 [00:21<00:02,  5.75 MiB/s]\u001b[A\n",
      "\n",
      "Extraction completed...: 0 file [00:21, ? file/s]\u001b[A\u001b[A\n",
      "Dl Completed...:   0%|                                                                                                                                                                                                                                          | 0/1 [00:21<?, ? url/s]\u001b[A\n",
      "Dl Size...:  90%|█████████████████████████████████████████████████████████████████████████████████████████████████████████████████████████████████████████████████████████████████████████████████████████████████████████████                      | 112/124 [00:21<00:02,  5.75 MiB/s]\u001b[A\n",
      "\n",
      "Extraction completed...: 0 file [00:21, ? file/s]\u001b[A\u001b[A\n",
      "Dl Completed...:   0%|                                                                                                                                                                                                                                          | 0/1 [00:21<?, ? url/s]\u001b[A\n",
      "Dl Size...:  91%|██████████████████████████████████████████████████████████████████████████████████████████████████████████████████████████████████████████████████████████████████████████████████████████████████████████████▊                    | 113/124 [00:21<00:01,  5.76 MiB/s]\u001b[A\n",
      "\n",
      "Extraction completed...: 0 file [00:21, ? file/s]\u001b[A\u001b[A\n",
      "Dl Completed...:   0%|                                                                                                                                                                                                                                          | 0/1 [00:22<?, ? url/s]\u001b[A\n",
      "Dl Size...:  92%|████████████████████████████████████████████████████████████████████████████████████████████████████████████████████████████████████████████████████████████████████████████████████████████████████████████████▋                  | 114/124 [00:22<00:01,  5.74 MiB/s]\u001b[A\n",
      "\n",
      "Extraction completed...: 0 file [00:22, ? file/s]\u001b[A\u001b[A\n",
      "Dl Completed...:   0%|                                                                                                                                                                                                                                          | 0/1 [00:22<?, ? url/s]\u001b[A\n",
      "Dl Size...:  93%|██████████████████████████████████████████████████████████████████████████████████████████████████████████████████████████████████████████████████████████████████████████████████████████████████████████████████▌                | 115/124 [00:22<00:01,  5.75 MiB/s]\u001b[A\n",
      "\n",
      "Extraction completed...: 0 file [00:22, ? file/s]\u001b[A\u001b[A\n",
      "Dl Completed...:   0%|                                                                                                                                                                                                                                          | 0/1 [00:22<?, ? url/s]\u001b[A\n",
      "Dl Size...:  94%|████████████████████████████████████████████████████████████████████████████████████████████████████████████████████████████████████████████████████████████████████████████████████████████████████████████████████▎              | 116/124 [00:22<00:01,  5.75 MiB/s]\u001b[A\n",
      "\n",
      "Extraction completed...: 0 file [00:22, ? file/s]\u001b[A\u001b[A\n",
      "Dl Completed...:   0%|                                                                                                                                                                                                                                          | 0/1 [00:22<?, ? url/s]\u001b[A\n",
      "Dl Size...:  94%|██████████████████████████████████████████████████████████████████████████████████████████████████████████████████████████████████████████████████████████████████████████████████████████████████████████████████████▏            | 117/124 [00:22<00:01,  5.75 MiB/s]\u001b[A\n",
      "\n",
      "Extraction completed...: 0 file [00:22, ? file/s]\u001b[A\u001b[A\n",
      "Dl Completed...:   0%|                                                                                                                                                                                                                                          | 0/1 [00:22<?, ? url/s]\u001b[A\n",
      "Dl Size...:  95%|████████████████████████████████████████████████████████████████████████████████████████████████████████████████████████████████████████████████████████████████████████████████████████████████████████████████████████           | 118/124 [00:22<00:01,  5.75 MiB/s]\u001b[A\n",
      "\n",
      "Extraction completed...: 0 file [00:22, ? file/s]\u001b[A\u001b[A\n",
      "Dl Completed...:   0%|                                                                                                                                                                                                                                          | 0/1 [00:22<?, ? url/s]\u001b[A\n",
      "Dl Size...:  96%|█████████████████████████████████████████████████████████████████████████████████████████████████████████████████████████████████████████████████████████████████████████████████████████████████████████████████████████▊         | 119/124 [00:22<00:00,  5.75 MiB/s]\u001b[A\n",
      "\n",
      "Extraction completed...: 0 file [00:22, ? file/s]\u001b[A\u001b[A\n",
      "Dl Completed...:   0%|                                                                                                                                                                                                                                          | 0/1 [00:23<?, ? url/s]\u001b[A\n",
      "Dl Size...:  97%|███████████████████████████████████████████████████████████████████████████████████████████████████████████████████████████████████████████████████████████████████████████████████████████████████████████████████████████▋       | 120/124 [00:23<00:00,  5.75 MiB/s]\u001b[A\n",
      "\n",
      "Extraction completed...: 0 file [00:23, ? file/s]\u001b[A\u001b[A\n",
      "Dl Completed...:   0%|                                                                                                                                                                                                                                          | 0/1 [00:23<?, ? url/s]\u001b[A\n",
      "Dl Size...:  98%|█████████████████████████████████████████████████████████████████████████████████████████████████████████████████████████████████████████████████████████████████████████████████████████████████████████████████████████████▌     | 121/124 [00:23<00:00,  5.75 MiB/s]\u001b[A\n",
      "\n",
      "Extraction completed...: 0 file [00:23, ? file/s]\u001b[A\u001b[A\n",
      "Dl Completed...:   0%|                                                                                                                                                                                                                                          | 0/1 [00:23<?, ? url/s]\u001b[A\n",
      "Dl Size...:  98%|███████████████████████████████████████████████████████████████████████████████████████████████████████████████████████████████████████████████████████████████████████████████████████████████████████████████████████████████▎   | 122/124 [00:23<00:00,  5.76 MiB/s]\u001b[A\n",
      "\n",
      "Extraction completed...: 0 file [00:23, ? file/s]\u001b[A\u001b[A\n",
      "Dl Completed...:   0%|                                                                                                                                                                                                                                          | 0/1 [00:23<?, ? url/s]\u001b[A\n",
      "Dl Size...:  99%|█████████████████████████████████████████████████████████████████████████████████████████████████████████████████████████████████████████████████████████████████████████████████████████████████████████████████████████████████▏ | 123/124 [00:23<00:00,  5.76 MiB/s]\u001b[A\n",
      "\n",
      "Extraction completed...: 0 file [00:23, ? file/s]\u001b[A\u001b[A\n",
      "Dl Completed...:   0%|                                                                                                                                                                                                                                          | 0/1 [00:23<?, ? url/s]\u001b[A\n",
      "Dl Size...: 100%|███████████████████████████████████████████████████████████████████████████████████████████████████████████████████████████████████████████████████████████████████████████████████████████████████████████████████████████████████| 124/124 [00:23<00:00,  5.75 MiB/s]\u001b[A\n",
      "\n",
      "Dl Completed...: 100%|██████████████████████████████████████████████████████████████████████████████████████████████████████████████████████████████████████████████████████████████████████████████████████████████████████████████████████████████████| 1/1 [00:24<00:00, 24.01s/ url]\n",
      "Dl Size...: 100%|███████████████████████████████████████████████████████████████████████████████████████████████████████████████████████████████████████████████████████████████████████████████████████████████████████████████████████████████████| 124/124 [00:24<00:00,  5.75 MiB/s]\u001b[A\n",
      "\n",
      "Dl Completed...: 100%|██████████████████████████████████████████████████████████████████████████████████████████████████████████████████████████████████████████████████████████████████████████████████████████████████████████████████████████████████| 1/1 [00:24<00:00, 24.01s/ url]\n",
      "Dl Size...: 100%|███████████████████████████████████████████████████████████████████████████████████████████████████████████████████████████████████████████████████████████████████████████████████████████████████████████████████████████████████| 124/124 [00:24<00:00,  5.75 MiB/s]\u001b[A\n",
      "\n",
      "Extraction completed...:   0%|                                                                                                                                                                                                                                 | 0/1 [00:24<?, ? file/s]\u001b[A\u001b[A\n",
      "\n",
      "Dl Completed...: 100%|██████████████████████████████████████████████████████████████████████████████████████████████████████████████████████████████████████████████████████████████████████████████████████████████████████████████████████████████████| 1/1 [00:26<00:00, 24.01s/ url]\u001b[A\u001b[A\n",
      "Dl Size...: 100%|███████████████████████████████████████████████████████████████████████████████████████████████████████████████████████████████████████████████████████████████████████████████████████████████████████████████████████████████████| 124/124 [00:26<00:00,  5.75 MiB/s]\u001b[A\n",
      "\n",
      "Extraction completed...: 100%|█████████████████████████████████████████████████████████████████████████████████████████████████████████████████████████████████████████████████████████████████████████████████████████████████████████████████████████| 1/1 [00:26<00:00, 26.61s/ file]\u001b[A\u001b[A\n",
      "Dl Size...: 100%|███████████████████████████████████████████████████████████████████████████████████████████████████████████████████████████████████████████████████████████████████████████████████████████████████████████████████████████████████| 124/124 [00:26<00:00,  4.66 MiB/s]\n",
      "Dl Completed...: 100%|██████████████████████████████████████████████████████████████████████████████████████████████████████████████████████████████████████████████████████████████████████████████████████████████████████████████████████████████████| 1/1 [00:26<00:00, 26.62s/ url]\n"
     ]
    },
    {
     "name": "stderr",
     "output_type": "stream",
     "text": [
      "Generating splits...:   0%|                                                                                                                                                                                                                                  | 0/3 [00:00<?, ? splits/s]\n",
      "Generating train examples...:   0%|                                                                                                                                                                                                                    | 0/51785 [00:00<?, ? examples/s]\u001b[A\n",
      "Generating train examples...:   1%|██▉                                                                                                                                                                                                     | 763/51785 [00:00<00:06, 7626.26 examples/s]\u001b[A\n",
      "Generating train examples...:   3%|█████▊                                                                                                                                                                                                 | 1526/51785 [00:00<00:10, 4966.61 examples/s]\u001b[A\n",
      "Generating train examples...:   6%|████████████▍                                                                                                                                                                                          | 3225/51785 [00:00<00:05, 9217.19 examples/s]\u001b[A\n",
      "Generating train examples...:   9%|██████████████████▋                                                                                                                                                                                   | 4899/51785 [00:00<00:03, 11740.33 examples/s]\u001b[A\n",
      "Generating train examples...:  13%|█████████████████████████                                                                                                                                                                             | 6542/51785 [00:00<00:03, 13259.85 examples/s]\u001b[A\n",
      "Generating train examples...:  16%|███████████████████████████████▍                                                                                                                                                                      | 8218/51785 [00:00<00:03, 14365.78 examples/s]\u001b[A\n",
      "Generating train examples...:  19%|█████████████████████████████████████▉                                                                                                                                                                | 9927/51785 [00:00<00:02, 15212.18 examples/s]\u001b[A\n",
      "Generating train examples...:  22%|███████████████████████████████████████████▉                                                                                                                                                         | 11553/51785 [00:00<00:02, 15533.34 examples/s]\u001b[A\n",
      "Generating train examples...:  26%|██████████████████████████████████████████████████▍                                                                                                                                                  | 13274/51785 [00:00<00:02, 16043.60 examples/s]\u001b[A\n",
      "Generating train examples...:  29%|████████████████████████████████████████████████████████▉                                                                                                                                            | 14970/51785 [00:01<00:02, 16320.14 examples/s]\u001b[A\n",
      "Generating train examples...:  32%|███████████████████████████████████████████████████████████████▏                                                                                                                                     | 16622/51785 [00:01<00:02, 15999.05 examples/s]\u001b[A\n",
      "Generating train examples...:  35%|█████████████████████████████████████████████████████████████████████▍                                                                                                                               | 18238/51785 [00:01<00:02, 15307.36 examples/s]\u001b[A\n",
      "Generating train examples...:  39%|███████████████████████████████████████████████████████████████████████████▉                                                                                                                         | 19947/51785 [00:01<00:02, 15820.25 examples/s]\u001b[A\n",
      "Generating train examples...:  42%|██████████████████████████████████████████████████████████████████████████████████▎                                                                                                                  | 21653/51785 [00:01<00:01, 16179.41 examples/s]\u001b[A\n",
      "Generating train examples...:  45%|████████████████████████████████████████████████████████████████████████████████████████▊                                                                                                            | 23348/51785 [00:01<00:01, 16404.07 examples/s]\u001b[A\n",
      "Generating train examples...:  48%|███████████████████████████████████████████████████████████████████████████████████████████████▎                                                                                                     | 25046/51785 [00:01<00:01, 16572.77 examples/s]\u001b[A\n",
      "Generating train examples...:  52%|█████████████████████████████████████████████████████████████████████████████████████████████████████▋                                                                                               | 26739/51785 [00:01<00:01, 16678.17 examples/s]\u001b[A\n",
      "Generating train examples...:  55%|████████████████████████████████████████████████████████████████████████████████████████████████████████████▏                                                                                        | 28450/51785 [00:01<00:01, 16805.25 examples/s]\u001b[A\n",
      "Generating train examples...:  58%|██████████████████████████████████████████████████████████████████████████████████████████████████████████████████▊                                                                                  | 30176/51785 [00:02<00:01, 16940.38 examples/s]\u001b[A\n",
      "Generating train examples...:  62%|█████████████████████████████████████████████████████████████████████████████████████████████████████████████████████████▍                                                                           | 31909/51785 [00:02<00:01, 17055.63 examples/s]\u001b[A\n",
      "Generating train examples...:  65%|███████████████████████████████████████████████████████████████████████████████████████████████████████████████████████████████▉                                                                     | 33617/51785 [00:02<00:01, 17013.46 examples/s]\u001b[A\n",
      "Generating train examples...:  68%|██████████████████████████████████████████████████████████████████████████████████████████████████████████████████████████████████████▎                                                              | 35320/51785 [00:02<00:00, 16993.59 examples/s]\u001b[A\n",
      "Generating train examples...:  72%|████████████████████████████████████████████████████████████████████████████████████████████████████████████████████████████████████████████▉                                                        | 37044/51785 [00:02<00:00, 17066.63 examples/s]\u001b[A\n",
      "Generating train examples...:  75%|███████████████████████████████████████████████████████████████████████████████████████████████████████████████████████████████████████████████████▍                                                 | 38766/51785 [00:02<00:00, 17110.92 examples/s]\u001b[A\n",
      "Generating train examples...:  78%|█████████████████████████████████████████████████████████████████████████████████████████████████████████████████████████████████████████████████████████▉                                           | 40478/51785 [00:02<00:00, 17106.85 examples/s]\u001b[A\n",
      "Generating train examples...:  81%|████████████████████████████████████████████████████████████████████████████████████████████████████████████████████████████████████████████████████████████████▍                                    | 42189/51785 [00:02<00:00, 17022.30 examples/s]\u001b[A\n",
      "Generating train examples...:  85%|██████████████████████████████████████████████████████████████████████████████████████████████████████████████████████████████████████████████████████████████████████▉                              | 43892/51785 [00:02<00:00, 16977.18 examples/s]\u001b[A\n",
      "Generating train examples...:  88%|█████████████████████████████████████████████████████████████████████████████████████████████████████████████████████████████████████████████████████████████████████████████▍                       | 45590/51785 [00:02<00:00, 16735.52 examples/s]\u001b[A\n",
      "Generating train examples...:  91%|███████████████████████████████████████████████████████████████████████████████████████████████████████████████████████████████████████████████████████████████████████████████████▉                 | 47287/51785 [00:03<00:00, 16804.79 examples/s]\u001b[A\n",
      "Generating train examples...:  95%|██████████████████████████████████████████████████████████████████████████████████████████████████████████████████████████████████████████████████████████████████████████████████████████▎          | 48988/51785 [00:03<00:00, 16863.64 examples/s]\u001b[A\n",
      "Generating train examples...:  98%|████████████████████████████████████████████████████████████████████████████████████████████████████████████████████████████████████████████████████████████████████████████████████████████████▊    | 50675/51785 [00:03<00:00, 16849.67 examples/s]\u001b[A\n",
      "                                                                                                                                                                                                                                                                                        \u001b[A\n",
      "Shuffling ~/tensorflow_datasets/ted_hrlr_translate/pt_to_en/1.0.0.incompleteQ0HTJC/ted_hrlr_translate-train.tfrecord*...:   0%|                                                                                                                        | 0/51785 [00:00<?, ? examples/s]\u001b[A\n",
      "Generating splits...:  33%|████████████████████████████████████████████████████████████████████████▋                                                                                                                                                 | 1/3 [00:03<00:06,  3.44s/ splits]\u001b[A\n",
      "Generating validation examples...:   0%|                                                                                                                                                                                                                | 0/1193 [00:00<?, ? examples/s]\u001b[A\n",
      "                                                                                                                                                                                                                                                                                        \u001b[A\n",
      "Shuffling ~/tensorflow_datasets/ted_hrlr_translate/pt_to_en/1.0.0.incompleteQ0HTJC/ted_hrlr_translate-validation.tfrecord*...:   0%|                                                                                                                    | 0/1193 [00:00<?, ? examples/s]\u001b[A\n",
      "                                                                                                                                                                                                                                                                                        \u001b[A\n",
      "Generating test examples...:   0%|                                                                                                                                                                                                                      | 0/1803 [00:00<?, ? examples/s]\u001b[A\n",
      "Generating test examples...:  96%|████████████████████████████████████████████████████████████████████████████████████████████████████████████████████████████████████████████████████████████████████████████████████████████████        | 1732/1803 [00:00<00:00, 17314.32 examples/s]\u001b[A\n",
      "                                                                                                                                                                                                                                                                                        \u001b[A\n",
      "Shuffling ~/tensorflow_datasets/ted_hrlr_translate/pt_to_en/1.0.0.incompleteQ0HTJC/ted_hrlr_translate-test.tfrecord*...:   0%|                                                                                                                          | 0/1803 [00:00<?, ? examples/s]\u001b[A\n",
      "2022-07-27 19:44:42.294428: E tensorflow/stream_executor/cuda/cuda_driver.cc:271] failed call to cuInit: CUDA_ERROR_COMPAT_NOT_SUPPORTED_ON_DEVICE: forward compatibility was attempted on non supported HW                                                                             \u001b[A\n",
      "2022-07-27 19:44:42.294515: I tensorflow/stream_executor/cuda/cuda_diagnostics.cc:169] retrieving CUDA diagnostic information for host: hoseo-gpu\n",
      "2022-07-27 19:44:42.294640: I tensorflow/stream_executor/cuda/cuda_diagnostics.cc:176] hostname: hoseo-gpu\n",
      "2022-07-27 19:44:42.294835: I tensorflow/stream_executor/cuda/cuda_diagnostics.cc:200] libcuda reported version is: 470.129.6\n",
      "2022-07-27 19:44:42.294893: I tensorflow/stream_executor/cuda/cuda_diagnostics.cc:204] kernel reported version is: 460.91.3\n",
      "2022-07-27 19:44:42.294911: E tensorflow/stream_executor/cuda/cuda_diagnostics.cc:313] kernel version 460.91.3 does not match DSO version 470.129.6 -- cannot find working devices in this configuration\n",
      "2022-07-27 19:44:42.297064: I tensorflow/core/platform/cpu_feature_guard.cc:151] This TensorFlow binary is optimized with oneAPI Deep Neural Network Library (oneDNN) to use the following CPU instructions in performance-critical operations:  AVX2 AVX512F FMA\n",
      "To enable them in other operations, rebuild TensorFlow with the appropriate compiler flags.\n"
     ]
    },
    {
     "name": "stdout",
     "output_type": "stream",
     "text": [
      "\u001b[1mDataset ted_hrlr_translate downloaded and prepared to ~/tensorflow_datasets/ted_hrlr_translate/pt_to_en/1.0.0. Subsequent calls will reuse this data.\u001b[0m\n"
     ]
    }
   ],
   "source": [
    "############## Download the Dataset ##################\n",
    "examples, metadata = tfds.load('ted_hrlr_translate/pt_to_en', with_info=True,\n",
    "                               as_supervised=True)\n",
    "train_examples, val_examples = examples['train'], examples['validation']"
   ]
  },
  {
   "cell_type": "code",
   "execution_count": 5,
   "id": "d1f5beb5",
   "metadata": {},
   "outputs": [
    {
     "name": "stdout",
     "output_type": "stream",
     "text": [
      "e quando melhoramos a procura , tiramos a única vantagem da impressão , que é a serendipidade .\n",
      "mas e se estes fatores fossem ativos ?\n",
      "mas eles não tinham a curiosidade de me testar .\n",
      "\n",
      "and when you improve searchability , you actually take away the one advantage of print , which is serendipity .\n",
      "but what if it were active ?\n",
      "but they did n't test for curiosity .\n"
     ]
    },
    {
     "name": "stderr",
     "output_type": "stream",
     "text": [
      "2022-07-27 19:44:59.277222: W tensorflow/core/kernels/data/cache_dataset_ops.cc:768] The calling iterator did not fully read the dataset being cached. In order to avoid unexpected truncation of the dataset, the partially cached contents of the dataset  will be discarded. This can happen if you have an input pipeline similar to `dataset.cache().take(k).repeat()`. You should use `dataset.take(k).cache().repeat()` instead.\n"
     ]
    }
   ],
   "source": [
    "for pt_examples, en_examples in train_examples.batch(3).take(1):\n",
    "  for pt in pt_examples.numpy():\n",
    "    print(pt.decode('utf-8'))\n",
    "\n",
    "  print()\n",
    "\n",
    "  for en in en_examples.numpy():\n",
    "    print(en.decode('utf-8'))\n",
    "    "
   ]
  },
  {
   "cell_type": "code",
   "execution_count": 6,
   "id": "932d6377",
   "metadata": {},
   "outputs": [
    {
     "name": "stdout",
     "output_type": "stream",
     "text": [
      "Downloading data from https://storage.googleapis.com/download.tensorflow.org/models/ted_hrlr_translate_pt_en_converter.zip\n",
      "188416/184801 [==============================] - 0s 1us/step\n",
      "196608/184801 [===============================] - 0s 1us/step\n"
     ]
    },
    {
     "data": {
      "text/plain": [
       "'./ted_hrlr_translate_pt_en_converter.zip'"
      ]
     },
     "execution_count": 6,
     "metadata": {},
     "output_type": "execute_result"
    }
   ],
   "source": [
    "############## Text tokenization & detokenization #######################\n",
    "\n",
    "model_name = 'ted_hrlr_translate_pt_en_converter'\n",
    "tf.keras.utils.get_file(\n",
    "    f'{model_name}.zip',\n",
    "    f'https://storage.googleapis.com/download.tensorflow.org/models/{model_name}.zip',\n",
    "    cache_dir='.', cache_subdir='', extract=True\n",
    ")"
   ]
  },
  {
   "cell_type": "code",
   "execution_count": 7,
   "id": "782a212f",
   "metadata": {},
   "outputs": [],
   "source": [
    "tokenizers = tf.saved_model.load(model_name)"
   ]
  },
  {
   "cell_type": "code",
   "execution_count": 8,
   "id": "14003db9",
   "metadata": {},
   "outputs": [
    {
     "data": {
      "text/plain": [
       "['detokenize',\n",
       " 'get_reserved_tokens',\n",
       " 'get_vocab_path',\n",
       " 'get_vocab_size',\n",
       " 'lookup',\n",
       " 'tokenize',\n",
       " 'tokenizer',\n",
       " 'vocab']"
      ]
     },
     "execution_count": 8,
     "metadata": {},
     "output_type": "execute_result"
    }
   ],
   "source": [
    "[item for item in dir(tokenizers.en) if not item.startswith('_')]"
   ]
  },
  {
   "cell_type": "code",
   "execution_count": 9,
   "id": "e226bfeb",
   "metadata": {},
   "outputs": [
    {
     "name": "stdout",
     "output_type": "stream",
     "text": [
      "and when you improve searchability , you actually take away the one advantage of print , which is serendipity .\n",
      "but what if it were active ?\n",
      "but they did n't test for curiosity .\n"
     ]
    }
   ],
   "source": [
    "for en in en_examples.numpy():\n",
    "  print(en.decode('utf-8'))"
   ]
  },
  {
   "cell_type": "code",
   "execution_count": 10,
   "id": "49eb9c47",
   "metadata": {},
   "outputs": [
    {
     "name": "stdout",
     "output_type": "stream",
     "text": [
      "[2, 72, 117, 79, 1259, 1491, 2362, 13, 79, 150, 184, 311, 71, 103, 2308, 74, 2679, 13, 148, 80, 55, 4840, 1434, 2423, 540, 15, 3]\n",
      "[2, 87, 90, 107, 76, 129, 1852, 30, 3]\n",
      "[2, 87, 83, 149, 50, 9, 56, 664, 85, 2512, 15, 3]\n"
     ]
    }
   ],
   "source": [
    "encoded = tokenizers.en.tokenize(en_examples)\n",
    "\n",
    "for row in encoded.to_list():\n",
    "  print(row)"
   ]
  },
  {
   "cell_type": "code",
   "execution_count": 11,
   "id": "07cd1599",
   "metadata": {},
   "outputs": [
    {
     "name": "stdout",
     "output_type": "stream",
     "text": [
      "and when you improve searchability , you actually take away the one advantage of print , which is serendipity .\n",
      "but what if it were active ?\n",
      "but they did n ' t test for curiosity .\n"
     ]
    }
   ],
   "source": [
    "round_trip = tokenizers.en.detokenize(encoded)\n",
    "for line in round_trip.numpy():\n",
    "  print(line.decode('utf-8'))"
   ]
  },
  {
   "cell_type": "code",
   "execution_count": 12,
   "id": "5dd2fcf8",
   "metadata": {},
   "outputs": [
    {
     "data": {
      "text/plain": [
       "<tf.RaggedTensor [[b'[START]', b'and', b'when', b'you', b'improve', b'search', b'##ability',\n",
       "  b',', b'you', b'actually', b'take', b'away', b'the', b'one', b'advantage',\n",
       "  b'of', b'print', b',', b'which', b'is', b's', b'##ere', b'##nd', b'##ip',\n",
       "  b'##ity', b'.', b'[END]']                                                 ,\n",
       " [b'[START]', b'but', b'what', b'if', b'it', b'were', b'active', b'?',\n",
       "  b'[END]']                                                           ,\n",
       " [b'[START]', b'but', b'they', b'did', b'n', b\"'\", b't', b'test', b'for',\n",
       "  b'curiosity', b'.', b'[END]']                                          ]>"
      ]
     },
     "execution_count": 12,
     "metadata": {},
     "output_type": "execute_result"
    }
   ],
   "source": [
    "tokens = tokenizers.en.lookup(encoded)\n",
    "tokens"
   ]
  },
  {
   "cell_type": "code",
   "execution_count": 13,
   "id": "798f06ba",
   "metadata": {},
   "outputs": [
    {
     "name": "stdout",
     "output_type": "stream",
     "text": [
      "..................................................."
     ]
    }
   ],
   "source": [
    "lengths = []\n",
    "\n",
    "for pt_examples, en_examples in train_examples.batch(1024):\n",
    "  pt_tokens = tokenizers.en.tokenize(pt_examples)\n",
    "  lengths.append(pt_tokens.row_lengths())\n",
    "\n",
    "  en_tokens = tokenizers.en.tokenize(en_examples)\n",
    "  lengths.append(en_tokens.row_lengths())\n",
    "  print('.', end='', flush=True)"
   ]
  },
  {
   "cell_type": "code",
   "execution_count": 14,
   "id": "b90fdcbf",
   "metadata": {},
   "outputs": [
    {
     "data": {
      "image/png": "[encoded data removed]",
      "text/plain": [
       "<Figure size 432x288 with 1 Axes>"
      ]
     },
     "metadata": {
      "needs_background": "light"
     },
     "output_type": "display_data"
    }
   ],
   "source": [
    "all_lengths = np.concatenate(lengths)\n",
    "\n",
    "plt.hist(all_lengths, np.linspace(0, 500, 101))\n",
    "plt.ylim(plt.ylim())\n",
    "max_length = max(all_lengths)\n",
    "plt.plot([max_length, max_length], plt.ylim())\n",
    "plt.title(f'Max tokens per example: {max_length}');"
   ]
  },
  {
   "cell_type": "code",
   "execution_count": 15,
   "id": "f9967838",
   "metadata": {},
   "outputs": [],
   "source": [
    "MAX_TOKENS = 128"
   ]
  },
  {
   "cell_type": "code",
   "execution_count": 16,
   "id": "92bdc4b9",
   "metadata": {},
   "outputs": [],
   "source": [
    "##################### Set input pipline ###################\n",
    "\n",
    "def filter_max_tokens(pt, en):\n",
    "  num_tokens = tf.maximum(tf.shape(pt)[1],tf.shape(en)[1])\n",
    "  return num_tokens < MAX_TOKENS"
   ]
  },
  {
   "cell_type": "code",
   "execution_count": 18,
   "id": "d7ea7413",
   "metadata": {},
   "outputs": [],
   "source": [
    "def tokenize_pairs(pt, en):\n",
    "    pt = tokenizers.pt.tokenize(pt)\n",
    "    # Convert from ragged to dense, padding with zeros.\n",
    "    pt = pt.to_tensor()\n",
    "\n",
    "    en = tokenizers.en.tokenize(en)\n",
    "    # Convert from ragged to dense, padding with zeros.\n",
    "    en = en.to_tensor()\n",
    "    return pt, en"
   ]
  },
  {
   "cell_type": "code",
   "execution_count": 20,
   "id": "cf89dc6a",
   "metadata": {},
   "outputs": [],
   "source": [
    "BUFFER_SIZE = 20000\n",
    "BATCH_SIZE = 64\n",
    "\n",
    "def make_batches(ds):\n",
    "  return (\n",
    "      ds\n",
    "      .cache()\n",
    "      .shuffle(BUFFER_SIZE)\n",
    "      .batch(BATCH_SIZE)\n",
    "      .map(tokenize_pairs, num_parallel_calls=tf.data.AUTOTUNE)\n",
    "      .filter(filter_max_tokens)\n",
    "      .prefetch(tf.data.AUTOTUNE))\n",
    "\n",
    "\n",
    "train_batches = make_batches(train_examples)\n",
    "val_batches = make_batches(val_examples)"
   ]
  },
  {
   "cell_type": "code",
   "execution_count": 21,
   "id": "85c97b2e",
   "metadata": {},
   "outputs": [],
   "source": [
    "############# Positinal encoding ################\n",
    "\n",
    "def get_angles(pos, i, d_model):\n",
    "  angle_rates = 1 / np.power(10000, (2 * (i//2)) / np.float32(d_model))\n",
    "  return pos * angle_rates"
   ]
  },
  {
   "cell_type": "code",
   "execution_count": 22,
   "id": "1746902b",
   "metadata": {},
   "outputs": [],
   "source": [
    "def positional_encoding(position, d_model):\n",
    "  angle_rads = get_angles(np.arange(position)[:, np.newaxis],\n",
    "                          np.arange(d_model)[np.newaxis, :],\n",
    "                          d_model)\n",
    "\n",
    "  # apply sin to even indices in the array; 2i\n",
    "  angle_rads[:, 0::2] = np.sin(angle_rads[:, 0::2])\n",
    "\n",
    "  # apply cos to odd indices in the array; 2i+1\n",
    "  angle_rads[:, 1::2] = np.cos(angle_rads[:, 1::2])\n",
    "\n",
    "  pos_encoding = angle_rads[np.newaxis, ...]\n",
    "\n",
    "  return tf.cast(pos_encoding, dtype=tf.float32)"
   ]
  },
  {
   "cell_type": "code",
   "execution_count": 23,
   "id": "1308071a",
   "metadata": {},
   "outputs": [
    {
     "name": "stdout",
     "output_type": "stream",
     "text": [
      "(1, 2048, 512)\n"
     ]
    },
    {
     "data": {
      "image/png": "[encoded data removed]",
      "text/plain": [
       "<Figure size 432x288 with 2 Axes>"
      ]
     },
     "metadata": {
      "needs_background": "light"
     },
     "output_type": "display_data"
    }
   ],
   "source": [
    "n, d = 2048, 512\n",
    "pos_encoding = positional_encoding(n, d)\n",
    "print(pos_encoding.shape)\n",
    "pos_encoding = pos_encoding[0]\n",
    "\n",
    "# Juggle the dimensions for the plot\n",
    "pos_encoding = tf.reshape(pos_encoding, (n, d//2, 2))\n",
    "pos_encoding = tf.transpose(pos_encoding, (2, 1, 0))\n",
    "pos_encoding = tf.reshape(pos_encoding, (d, n))\n",
    "\n",
    "plt.pcolormesh(pos_encoding, cmap='RdBu')\n",
    "plt.ylabel('Depth')\n",
    "plt.xlabel('Position')\n",
    "plt.colorbar()\n",
    "plt.show()"
   ]
  },
  {
   "cell_type": "code",
   "execution_count": 25,
   "id": "79aec685",
   "metadata": {},
   "outputs": [
    {
     "data": {
      "text/plain": [
       "<tf.Tensor: shape=(3, 1, 1, 5), dtype=float32, numpy=\n",
       "array([[[[0., 0., 1., 1., 0.]]],\n",
       "\n",
       "\n",
       "       [[[0., 0., 0., 1., 1.]]],\n",
       "\n",
       "\n",
       "       [[[1., 1., 1., 0., 0.]]]], dtype=float32)>"
      ]
     },
     "execution_count": 25,
     "metadata": {},
     "output_type": "execute_result"
    }
   ],
   "source": [
    "############### Masking ###################\n",
    "def create_padding_mask(seq):\n",
    "  seq = tf.cast(tf.math.equal(seq, 0), tf.float32)\n",
    "\n",
    "  # add extra dimensions to add the padding\n",
    "  # to the attention logits.\n",
    "  return seq[:, tf.newaxis, tf.newaxis, :]  # (batch_size, 1, 1, seq_len)\n",
    "\n",
    "x = tf.constant([[7, 6, 0, 0, 1], [1, 2, 3, 0, 0], [0, 0, 0, 4, 5]])\n",
    "create_padding_mask(x)"
   ]
  },
  {
   "cell_type": "code",
   "execution_count": 26,
   "id": "048264f7",
   "metadata": {},
   "outputs": [],
   "source": [
    "def create_look_ahead_mask(size):\n",
    "  mask = 1 - tf.linalg.band_part(tf.ones((size, size)), -1, 0)\n",
    "  return mask  # (seq_len, seq_len)"
   ]
  },
  {
   "cell_type": "code",
   "execution_count": 27,
   "id": "2d68eaef",
   "metadata": {},
   "outputs": [
    {
     "data": {
      "text/plain": [
       "<tf.Tensor: shape=(3, 3), dtype=float32, numpy=\n",
       "array([[0., 1., 1.],\n",
       "       [0., 0., 1.],\n",
       "       [0., 0., 0.]], dtype=float32)>"
      ]
     },
     "execution_count": 27,
     "metadata": {},
     "output_type": "execute_result"
    }
   ],
   "source": [
    "x = tf.random.uniform((1, 3))\n",
    "temp = create_look_ahead_mask(x.shape[1])\n",
    "temp"
   ]
  },
  {
   "cell_type": "code",
   "execution_count": 28,
   "id": "c0ad0b0d",
   "metadata": {},
   "outputs": [],
   "source": [
    "############ Scaled dot product attention ###############\n",
    "def scaled_dot_product_attention(q, k, v, mask):\n",
    "  \"\"\"Calculate the attention weights.\n",
    "  q, k, v must have matching leading dimensions.\n",
    "  k, v must have matching penultimate dimension, i.e.: seq_len_k = seq_len_v.\n",
    "  The mask has different shapes depending on its type(padding or look ahead)\n",
    "  but it must be broadcastable for addition.\n",
    "\n",
    "  Args:\n",
    "    q: query shape == (..., seq_len_q, depth)\n",
    "    k: key shape == (..., seq_len_k, depth)\n",
    "    v: value shape == (..., seq_len_v, depth_v)\n",
    "    mask: Float tensor with shape broadcastable\n",
    "          to (..., seq_len_q, seq_len_k). Defaults to None.\n",
    "\n",
    "  Returns:\n",
    "    output, attention_weights\n",
    "  \"\"\"\n",
    "\n",
    "  matmul_qk = tf.matmul(q, k, transpose_b=True)  # (..., seq_len_q, seq_len_k)\n",
    "\n",
    "  # scale matmul_qk\n",
    "  dk = tf.cast(tf.shape(k)[-1], tf.float32)\n",
    "  scaled_attention_logits = matmul_qk / tf.math.sqrt(dk)\n",
    "\n",
    "  # add the mask to the scaled tensor.\n",
    "  if mask is not None:\n",
    "    scaled_attention_logits += (mask * -1e9)\n",
    "\n",
    "  # softmax is normalized on the last axis (seq_len_k) so that the scores\n",
    "  # add up to 1.\n",
    "  attention_weights = tf.nn.softmax(scaled_attention_logits, axis=-1)  # (..., seq_len_q, seq_len_k)\n",
    "\n",
    "  output = tf.matmul(attention_weights, v)  # (..., seq_len_q, depth_v)\n",
    "\n",
    "  return output, attention_weights"
   ]
  },
  {
   "cell_type": "code",
   "execution_count": 29,
   "id": "f8bbfbce",
   "metadata": {},
   "outputs": [],
   "source": [
    "def print_out(q, k, v):\n",
    "  temp_out, temp_attn = scaled_dot_product_attention(\n",
    "      q, k, v, None)\n",
    "  print('Attention weights are:')\n",
    "  print(temp_attn)\n",
    "  print('Output is:')\n",
    "  print(temp_out)"
   ]
  },
  {
   "cell_type": "code",
   "execution_count": 30,
   "id": "0cb3055c",
   "metadata": {},
   "outputs": [
    {
     "name": "stdout",
     "output_type": "stream",
     "text": [
      "Attention weights are:\n",
      "tf.Tensor([[0. 1. 0. 0.]], shape=(1, 4), dtype=float32)\n",
      "Output is:\n",
      "tf.Tensor([[10.  0.]], shape=(1, 2), dtype=float32)\n"
     ]
    }
   ],
   "source": [
    "np.set_printoptions(suppress=True)\n",
    "\n",
    "temp_k = tf.constant([[10, 0, 0],\n",
    "                      [0, 10, 0],\n",
    "                      [0, 0, 10],\n",
    "                      [0, 0, 10]], dtype=tf.float32)  # (4, 3)\n",
    "\n",
    "temp_v = tf.constant([[1, 0],\n",
    "                      [10, 0],\n",
    "                      [100, 5],\n",
    "                      [1000, 6]], dtype=tf.float32)  # (4, 2)\n",
    "\n",
    "# This `query` aligns with the second `key`,\n",
    "# so the second `value` is returned.\n",
    "temp_q = tf.constant([[0, 10, 0]], dtype=tf.float32)  # (1, 3)\n",
    "print_out(temp_q, temp_k, temp_v)"
   ]
  },
  {
   "cell_type": "code",
   "execution_count": 31,
   "id": "ba9738be",
   "metadata": {},
   "outputs": [
    {
     "name": "stdout",
     "output_type": "stream",
     "text": [
      "Attention weights are:\n",
      "tf.Tensor([[0.  0.  0.5 0.5]], shape=(1, 4), dtype=float32)\n",
      "Output is:\n",
      "tf.Tensor([[550.    5.5]], shape=(1, 2), dtype=float32)\n"
     ]
    }
   ],
   "source": [
    "# This query aligns with a repeated key (third and fourth),\n",
    "# so all associated values get averaged.\n",
    "temp_q = tf.constant([[0, 0, 10]], dtype=tf.float32)  # (1, 3)\n",
    "print_out(temp_q, temp_k, temp_v)"
   ]
  },
  {
   "cell_type": "code",
   "execution_count": 32,
   "id": "2e5350dc",
   "metadata": {},
   "outputs": [
    {
     "name": "stdout",
     "output_type": "stream",
     "text": [
      "Attention weights are:\n",
      "tf.Tensor([[0.5 0.5 0.  0. ]], shape=(1, 4), dtype=float32)\n",
      "Output is:\n",
      "tf.Tensor([[5.5 0. ]], shape=(1, 2), dtype=float32)\n"
     ]
    }
   ],
   "source": [
    "# This query aligns equally with the first and second key,\n",
    "# so their values get averaged.\n",
    "temp_q = tf.constant([[10, 10, 0]], dtype=tf.float32)  # (1, 3)\n",
    "print_out(temp_q, temp_k, temp_v)"
   ]
  },
  {
   "cell_type": "code",
   "execution_count": 33,
   "id": "77c17ea5",
   "metadata": {},
   "outputs": [
    {
     "name": "stdout",
     "output_type": "stream",
     "text": [
      "Attention weights are:\n",
      "tf.Tensor(\n",
      "[[0.  0.  0.5 0.5]\n",
      " [0.  1.  0.  0. ]\n",
      " [0.5 0.5 0.  0. ]], shape=(3, 4), dtype=float32)\n",
      "Output is:\n",
      "tf.Tensor(\n",
      "[[550.    5.5]\n",
      " [ 10.    0. ]\n",
      " [  5.5   0. ]], shape=(3, 2), dtype=float32)\n"
     ]
    }
   ],
   "source": [
    "temp_q = tf.constant([[0, 0, 10],\n",
    "                      [0, 10, 0],\n",
    "                      [10, 10, 0]], dtype=tf.float32)  # (3, 3)\n",
    "print_out(temp_q, temp_k, temp_v)"
   ]
  },
  {
   "cell_type": "code",
   "execution_count": 34,
   "id": "b60476a9",
   "metadata": {},
   "outputs": [],
   "source": [
    "######### Multi-head attention ############\n",
    "\n",
    "class MultiHeadAttention(tf.keras.layers.Layer):\n",
    "  def __init__(self,*, d_model, num_heads):\n",
    "    super(MultiHeadAttention, self).__init__()\n",
    "    self.num_heads = num_heads\n",
    "    self.d_model = d_model\n",
    "\n",
    "    assert d_model % self.num_heads == 0\n",
    "\n",
    "    self.depth = d_model // self.num_heads\n",
    "\n",
    "    self.wq = tf.keras.layers.Dense(d_model)\n",
    "    self.wk = tf.keras.layers.Dense(d_model)\n",
    "    self.wv = tf.keras.layers.Dense(d_model)\n",
    "\n",
    "    self.dense = tf.keras.layers.Dense(d_model)\n",
    "\n",
    "  def split_heads(self, x, batch_size):\n",
    "    \"\"\"Split the last dimension into (num_heads, depth).\n",
    "    Transpose the result such that the shape is (batch_size, num_heads, seq_len, depth)\n",
    "    \"\"\"\n",
    "    x = tf.reshape(x, (batch_size, -1, self.num_heads, self.depth))\n",
    "    return tf.transpose(x, perm=[0, 2, 1, 3])\n",
    "\n",
    "  def call(self, v, k, q, mask):\n",
    "    batch_size = tf.shape(q)[0]\n",
    "\n",
    "    q = self.wq(q)  # (batch_size, seq_len, d_model)\n",
    "    k = self.wk(k)  # (batch_size, seq_len, d_model)\n",
    "    v = self.wv(v)  # (batch_size, seq_len, d_model)\n",
    "\n",
    "    q = self.split_heads(q, batch_size)  # (batch_size, num_heads, seq_len_q, depth)\n",
    "    k = self.split_heads(k, batch_size)  # (batch_size, num_heads, seq_len_k, depth)\n",
    "    v = self.split_heads(v, batch_size)  # (batch_size, num_heads, seq_len_v, depth)\n",
    "\n",
    "    # scaled_attention.shape == (batch_size, num_heads, seq_len_q, depth)\n",
    "    # attention_weights.shape == (batch_size, num_heads, seq_len_q, seq_len_k)\n",
    "    scaled_attention, attention_weights = scaled_dot_product_attention(\n",
    "        q, k, v, mask)\n",
    "\n",
    "    scaled_attention = tf.transpose(scaled_attention, perm=[0, 2, 1, 3])  # (batch_size, seq_len_q, num_heads, depth)\n",
    "\n",
    "    concat_attention = tf.reshape(scaled_attention,\n",
    "                                  (batch_size, -1, self.d_model))  # (batch_size, seq_len_q, d_model)\n",
    "\n",
    "    output = self.dense(concat_attention)  # (batch_size, seq_len_q, d_model)\n",
    "\n",
    "    return output, attention_weights"
   ]
  },
  {
   "cell_type": "code",
   "execution_count": 35,
   "id": "e801d5fb",
   "metadata": {},
   "outputs": [
    {
     "data": {
      "text/plain": [
       "(TensorShape([1, 60, 512]), TensorShape([1, 8, 60, 60]))"
      ]
     },
     "execution_count": 35,
     "metadata": {},
     "output_type": "execute_result"
    }
   ],
   "source": [
    "temp_mha = MultiHeadAttention(d_model=512, num_heads=8)\n",
    "y = tf.random.uniform((1, 60, 512))  # (batch_size, encoder_sequence, d_model)\n",
    "out, attn = temp_mha(y, k=y, q=y, mask=None)\n",
    "out.shape, attn.shape"
   ]
  },
  {
   "cell_type": "code",
   "execution_count": 36,
   "id": "db5e612c",
   "metadata": {},
   "outputs": [
    {
     "data": {
      "text/plain": [
       "TensorShape([64, 50, 512])"
      ]
     },
     "execution_count": 36,
     "metadata": {},
     "output_type": "execute_result"
    }
   ],
   "source": [
    "########### Point wise feed forward network #############\n",
    "def point_wise_feed_forward_network(d_model, dff):\n",
    "  return tf.keras.Sequential([\n",
    "      tf.keras.layers.Dense(dff, activation='relu'),  # (batch_size, seq_len, dff)\n",
    "      tf.keras.layers.Dense(d_model)  # (batch_size, seq_len, d_model)\n",
    "  ])\n",
    "\n",
    "sample_ffn = point_wise_feed_forward_network(512, 2048)\n",
    "sample_ffn(tf.random.uniform((64, 50, 512))).shape"
   ]
  },
  {
   "cell_type": "code",
   "execution_count": 37,
   "id": "cd04a940",
   "metadata": {},
   "outputs": [],
   "source": [
    "################## Encoder Layer ##################\n",
    "\n",
    "class EncoderLayer(tf.keras.layers.Layer):\n",
    "  def __init__(self,*, d_model, num_heads, dff, rate=0.1):\n",
    "    super(EncoderLayer, self).__init__()\n",
    "\n",
    "    self.mha = MultiHeadAttention(d_model=d_model, num_heads=num_heads)\n",
    "    self.ffn = point_wise_feed_forward_network(d_model, dff)\n",
    "\n",
    "    self.layernorm1 = tf.keras.layers.LayerNormalization(epsilon=1e-6)\n",
    "    self.layernorm2 = tf.keras.layers.LayerNormalization(epsilon=1e-6)\n",
    "\n",
    "    self.dropout1 = tf.keras.layers.Dropout(rate)\n",
    "    self.dropout2 = tf.keras.layers.Dropout(rate)\n",
    "\n",
    "  def call(self, x, training, mask):\n",
    "\n",
    "    attn_output, _ = self.mha(x, x, x, mask)  # (batch_size, input_seq_len, d_model)\n",
    "    attn_output = self.dropout1(attn_output, training=training)\n",
    "    out1 = self.layernorm1(x + attn_output)  # (batch_size, input_seq_len, d_model)\n",
    "\n",
    "    ffn_output = self.ffn(out1)  # (batch_size, input_seq_len, d_model)\n",
    "    ffn_output = self.dropout2(ffn_output, training=training)\n",
    "    out2 = self.layernorm2(out1 + ffn_output)  # (batch_size, input_seq_len, d_model)\n",
    "\n",
    "    return out2"
   ]
  },
  {
   "cell_type": "code",
   "execution_count": 38,
   "id": "245c52db",
   "metadata": {},
   "outputs": [
    {
     "data": {
      "text/plain": [
       "TensorShape([64, 43, 512])"
      ]
     },
     "execution_count": 38,
     "metadata": {},
     "output_type": "execute_result"
    }
   ],
   "source": [
    "sample_encoder_layer = EncoderLayer(d_model=512, num_heads=8, dff=2048)\n",
    "\n",
    "sample_encoder_layer_output = sample_encoder_layer(\n",
    "    tf.random.uniform((64, 43, 512)), False, None)\n",
    "\n",
    "sample_encoder_layer_output.shape  # (batch_size, input_seq_len, d_model)"
   ]
  },
  {
   "cell_type": "code",
   "execution_count": 39,
   "id": "3809e7a4",
   "metadata": {},
   "outputs": [
    {
     "data": {
      "text/plain": [
       "TensorShape([64, 50, 512])"
      ]
     },
     "execution_count": 39,
     "metadata": {},
     "output_type": "execute_result"
    }
   ],
   "source": [
    "############### Decoder Layer ################\n",
    "\n",
    "class DecoderLayer(tf.keras.layers.Layer):\n",
    "  def __init__(self,*, d_model, num_heads, dff, rate=0.1):\n",
    "    super(DecoderLayer, self).__init__()\n",
    "\n",
    "    self.mha1 = MultiHeadAttention(d_model=d_model, num_heads=num_heads)\n",
    "    self.mha2 = MultiHeadAttention(d_model=d_model, num_heads=num_heads)\n",
    "\n",
    "    self.ffn = point_wise_feed_forward_network(d_model, dff)\n",
    "\n",
    "    self.layernorm1 = tf.keras.layers.LayerNormalization(epsilon=1e-6)\n",
    "    self.layernorm2 = tf.keras.layers.LayerNormalization(epsilon=1e-6)\n",
    "    self.layernorm3 = tf.keras.layers.LayerNormalization(epsilon=1e-6)\n",
    "\n",
    "    self.dropout1 = tf.keras.layers.Dropout(rate)\n",
    "    self.dropout2 = tf.keras.layers.Dropout(rate)\n",
    "    self.dropout3 = tf.keras.layers.Dropout(rate)\n",
    "\n",
    "  def call(self, x, enc_output, training,\n",
    "           look_ahead_mask, padding_mask):\n",
    "    # enc_output.shape == (batch_size, input_seq_len, d_model)\n",
    "\n",
    "    attn1, attn_weights_block1 = self.mha1(x, x, x, look_ahead_mask)  # (batch_size, target_seq_len, d_model)\n",
    "    attn1 = self.dropout1(attn1, training=training)\n",
    "    out1 = self.layernorm1(attn1 + x)\n",
    "\n",
    "    attn2, attn_weights_block2 = self.mha2(\n",
    "        enc_output, enc_output, out1, padding_mask)  # (batch_size, target_seq_len, d_model)\n",
    "    attn2 = self.dropout2(attn2, training=training)\n",
    "    out2 = self.layernorm2(attn2 + out1)  # (batch_size, target_seq_len, d_model)\n",
    "\n",
    "    ffn_output = self.ffn(out2)  # (batch_size, target_seq_len, d_model)\n",
    "    ffn_output = self.dropout3(ffn_output, training=training)\n",
    "    out3 = self.layernorm3(ffn_output + out2)  # (batch_size, target_seq_len, d_model)\n",
    "\n",
    "    return out3, attn_weights_block1, attn_weights_block2\n",
    "\n",
    "sample_decoder_layer = DecoderLayer(d_model=512, num_heads=8, dff=2048)\n",
    "\n",
    "sample_decoder_layer_output, _, _ = sample_decoder_layer(\n",
    "    tf.random.uniform((64, 50, 512)), sample_encoder_layer_output,\n",
    "    False, None, None)\n",
    "\n",
    "sample_decoder_layer_output.shape  # (batch_size, target_seq_len, d_model)"
   ]
  },
  {
   "cell_type": "code",
   "execution_count": 40,
   "id": "e324f79d",
   "metadata": {},
   "outputs": [],
   "source": [
    "################### Encoder ########################\n",
    "\n",
    "class Encoder(tf.keras.layers.Layer):\n",
    "  def __init__(self,*, num_layers, d_model, num_heads, dff, input_vocab_size,\n",
    "               rate=0.1):\n",
    "    super(Encoder, self).__init__()\n",
    "\n",
    "    self.d_model = d_model\n",
    "    self.num_layers = num_layers\n",
    "\n",
    "    self.embedding = tf.keras.layers.Embedding(input_vocab_size, d_model)\n",
    "    self.pos_encoding = positional_encoding(MAX_TOKENS, self.d_model)\n",
    "\n",
    "    self.enc_layers = [\n",
    "        EncoderLayer(d_model=d_model, num_heads=num_heads, dff=dff, rate=rate)\n",
    "        for _ in range(num_layers)]\n",
    "\n",
    "    self.dropout = tf.keras.layers.Dropout(rate)\n",
    "\n",
    "  def call(self, x, training, mask):\n",
    "\n",
    "    seq_len = tf.shape(x)[1]\n",
    "\n",
    "    # adding embedding and position encoding.\n",
    "    x = self.embedding(x)  # (batch_size, input_seq_len, d_model)\n",
    "    x *= tf.math.sqrt(tf.cast(self.d_model, tf.float32))\n",
    "    x += self.pos_encoding[:, :seq_len, :]\n",
    "\n",
    "    x = self.dropout(x, training=training)\n",
    "\n",
    "    for i in range(self.num_layers):\n",
    "      x = self.enc_layers[i](x, training, mask)\n",
    "\n",
    "    return x  # (batch_size, input_seq_len, d_model)"
   ]
  },
  {
   "cell_type": "code",
   "execution_count": 41,
   "id": "8d4c6fe4",
   "metadata": {},
   "outputs": [
    {
     "name": "stdout",
     "output_type": "stream",
     "text": [
      "(64, 62, 512)\n"
     ]
    }
   ],
   "source": [
    "sample_encoder = Encoder(num_layers=2, d_model=512, num_heads=8,\n",
    "                         dff=2048, input_vocab_size=8500)\n",
    "temp_input = tf.random.uniform((64, 62), dtype=tf.int64, minval=0, maxval=200)\n",
    "\n",
    "sample_encoder_output = sample_encoder(temp_input, training=False, mask=None)\n",
    "\n",
    "print(sample_encoder_output.shape)  # (batch_size, input_seq_len, d_model)"
   ]
  },
  {
   "cell_type": "code",
   "execution_count": 42,
   "id": "ebf89b68",
   "metadata": {},
   "outputs": [],
   "source": [
    "#################### Decoder #####################\n",
    "\n",
    "class Decoder(tf.keras.layers.Layer):\n",
    "  def __init__(self,*, num_layers, d_model, num_heads, dff, target_vocab_size,\n",
    "               rate=0.1):\n",
    "    super(Decoder, self).__init__()\n",
    "\n",
    "    self.d_model = d_model\n",
    "    self.num_layers = num_layers\n",
    "\n",
    "    self.embedding = tf.keras.layers.Embedding(target_vocab_size, d_model)\n",
    "    self.pos_encoding = positional_encoding(MAX_TOKENS, d_model)\n",
    "\n",
    "    self.dec_layers = [\n",
    "        DecoderLayer(d_model=d_model, num_heads=num_heads, dff=dff, rate=rate)\n",
    "        for _ in range(num_layers)]\n",
    "    self.dropout = tf.keras.layers.Dropout(rate)\n",
    "\n",
    "  def call(self, x, enc_output, training,\n",
    "           look_ahead_mask, padding_mask):\n",
    "\n",
    "    seq_len = tf.shape(x)[1]\n",
    "    attention_weights = {}\n",
    "\n",
    "    x = self.embedding(x)  # (batch_size, target_seq_len, d_model)\n",
    "    x *= tf.math.sqrt(tf.cast(self.d_model, tf.float32))\n",
    "    x += self.pos_encoding[:, :seq_len, :]\n",
    "\n",
    "    x = self.dropout(x, training=training)\n",
    "\n",
    "    for i in range(self.num_layers):\n",
    "      x, block1, block2 = self.dec_layers[i](x, enc_output, training,\n",
    "                                             look_ahead_mask, padding_mask)\n",
    "\n",
    "      attention_weights[f'decoder_layer{i+1}_block1'] = block1\n",
    "      attention_weights[f'decoder_layer{i+1}_block2'] = block2\n",
    "\n",
    "    # x.shape == (batch_size, target_seq_len, d_model)\n",
    "    return x, attention_weights"
   ]
  },
  {
   "cell_type": "code",
   "execution_count": 43,
   "id": "186ee80d",
   "metadata": {},
   "outputs": [
    {
     "data": {
      "text/plain": [
       "(TensorShape([64, 26, 512]), TensorShape([64, 8, 26, 62]))"
      ]
     },
     "execution_count": 43,
     "metadata": {},
     "output_type": "execute_result"
    }
   ],
   "source": [
    "sample_decoder = Decoder(num_layers=2, d_model=512, num_heads=8,\n",
    "                         dff=2048, target_vocab_size=8000)\n",
    "temp_input = tf.random.uniform((64, 26), dtype=tf.int64, minval=0, maxval=200)\n",
    "\n",
    "output, attn = sample_decoder(temp_input,\n",
    "                              enc_output=sample_encoder_output,\n",
    "                              training=False,\n",
    "                              look_ahead_mask=None,\n",
    "                              padding_mask=None)\n",
    "\n",
    "output.shape, attn['decoder_layer2_block2'].shape"
   ]
  },
  {
   "cell_type": "code",
   "execution_count": 44,
   "id": "561c0edc",
   "metadata": {},
   "outputs": [],
   "source": [
    "################### Create the transformer model ###################\n",
    "\n",
    "class Transformer(tf.keras.Model):\n",
    "  def __init__(self,*, num_layers, d_model, num_heads, dff, input_vocab_size,\n",
    "               target_vocab_size, rate=0.1):\n",
    "    super().__init__()\n",
    "    self.encoder = Encoder(num_layers=num_layers, d_model=d_model,\n",
    "                           num_heads=num_heads, dff=dff,\n",
    "                           input_vocab_size=input_vocab_size, rate=rate)\n",
    "\n",
    "    self.decoder = Decoder(num_layers=num_layers, d_model=d_model,\n",
    "                           num_heads=num_heads, dff=dff,\n",
    "                           target_vocab_size=target_vocab_size, rate=rate)\n",
    "\n",
    "    self.final_layer = tf.keras.layers.Dense(target_vocab_size)\n",
    "\n",
    "  def call(self, inputs, training):\n",
    "    # Keras models prefer if you pass all your inputs in the first argument\n",
    "    inp, tar = inputs\n",
    "\n",
    "    padding_mask, look_ahead_mask = self.create_masks(inp, tar)\n",
    "\n",
    "    enc_output = self.encoder(inp, training, padding_mask)  # (batch_size, inp_seq_len, d_model)\n",
    "\n",
    "    # dec_output.shape == (batch_size, tar_seq_len, d_model)\n",
    "    dec_output, attention_weights = self.decoder(\n",
    "        tar, enc_output, training, look_ahead_mask, padding_mask)\n",
    "\n",
    "    final_output = self.final_layer(dec_output)  # (batch_size, tar_seq_len, target_vocab_size)\n",
    "\n",
    "    return final_output, attention_weights\n",
    "\n",
    "  def create_masks(self, inp, tar):\n",
    "    # Encoder padding mask (Used in the 2nd attention block in the decoder too.)\n",
    "    padding_mask = create_padding_mask(inp)\n",
    "\n",
    "    # Used in the 1st attention block in the decoder.\n",
    "    # It is used to pad and mask future tokens in the input received by\n",
    "    # the decoder.\n",
    "    look_ahead_mask = create_look_ahead_mask(tf.shape(tar)[1])\n",
    "    dec_target_padding_mask = create_padding_mask(tar)\n",
    "    look_ahead_mask = tf.maximum(dec_target_padding_mask, look_ahead_mask)\n",
    "\n",
    "    return padding_mask, look_ahead_mask"
   ]
  },
  {
   "cell_type": "code",
   "execution_count": 45,
   "id": "c8e9fd57",
   "metadata": {},
   "outputs": [
    {
     "data": {
      "text/plain": [
       "TensorShape([64, 36, 8000])"
      ]
     },
     "execution_count": 45,
     "metadata": {},
     "output_type": "execute_result"
    }
   ],
   "source": [
    "sample_transformer = Transformer(\n",
    "    num_layers=2, d_model=512, num_heads=8, dff=2048,\n",
    "    input_vocab_size=8500, target_vocab_size=8000)\n",
    "\n",
    "temp_input = tf.random.uniform((64, 38), dtype=tf.int64, minval=0, maxval=200)\n",
    "temp_target = tf.random.uniform((64, 36), dtype=tf.int64, minval=0, maxval=200)\n",
    "\n",
    "fn_out, _ = sample_transformer([temp_input, temp_target], training=False)\n",
    "\n",
    "fn_out.shape  # (batch_size, tar_seq_len, target_vocab_size)"
   ]
  },
  {
   "cell_type": "code",
   "execution_count": 55,
   "id": "2dc12315",
   "metadata": {},
   "outputs": [],
   "source": [
    "############################ Set hyperparameters ####################\n",
    "\n",
    "num_layers = 4\n",
    "d_model = 128\n",
    "dff = 512\n",
    "num_heads = 8\n",
    "dropout_rate = 0.1\n",
    "EPOCHS = 20"
   ]
  },
  {
   "cell_type": "code",
   "execution_count": 56,
   "id": "88c280f7",
   "metadata": {},
   "outputs": [],
   "source": [
    "############# Optimaizer ################\n",
    "class CustomSchedule(tf.keras.optimizers.schedules.LearningRateSchedule):\n",
    "  def __init__(self, d_model, warmup_steps=4000):\n",
    "    super(CustomSchedule, self).__init__()\n",
    "\n",
    "    self.d_model = d_model\n",
    "    self.d_model = tf.cast(self.d_model, tf.float32)\n",
    "\n",
    "    self.warmup_steps = warmup_steps\n",
    "\n",
    "  def __call__(self, step):\n",
    "    arg1 = tf.math.rsqrt(step)\n",
    "    arg2 = step * (self.warmup_steps ** -1.5)\n",
    "\n",
    "    return tf.math.rsqrt(self.d_model) * tf.math.minimum(arg1, arg2)"
   ]
  },
  {
   "cell_type": "code",
   "execution_count": 57,
   "id": "fb2a471d",
   "metadata": {},
   "outputs": [],
   "source": [
    "learning_rate = CustomSchedule(d_model)\n",
    "\n",
    "optimizer = tf.keras.optimizers.Adam(learning_rate, beta_1=0.9, beta_2=0.98,\n",
    "                                     epsilon=1e-9)"
   ]
  },
  {
   "cell_type": "code",
   "execution_count": 58,
   "id": "3b5bc7c4",
   "metadata": {},
   "outputs": [
    {
     "data": {
      "text/plain": [
       "Text(0.5, 0, 'Train Step')"
      ]
     },
     "execution_count": 58,
     "metadata": {},
     "output_type": "execute_result"
    },
    {
     "data": {
      "image/png": "[encoded data removed]",
      "text/plain": [
       "<Figure size 432x288 with 1 Axes>"
      ]
     },
     "metadata": {
      "needs_background": "light"
     },
     "output_type": "display_data"
    }
   ],
   "source": [
    "temp_learning_rate_schedule = CustomSchedule(d_model)\n",
    "\n",
    "plt.plot(temp_learning_rate_schedule(tf.range(40000, dtype=tf.float32)))\n",
    "plt.ylabel('Learning Rate')\n",
    "plt.xlabel('Train Step')"
   ]
  },
  {
   "cell_type": "code",
   "execution_count": 59,
   "id": "15eb3cfd",
   "metadata": {},
   "outputs": [],
   "source": [
    "############## Loss and metrics ###########\n",
    "\n",
    "loss_object = tf.keras.losses.SparseCategoricalCrossentropy(\n",
    "    from_logits=True, reduction='none')"
   ]
  },
  {
   "cell_type": "code",
   "execution_count": 60,
   "id": "cdf1fa5f",
   "metadata": {},
   "outputs": [],
   "source": [
    "def loss_function(real, pred):\n",
    "  mask = tf.math.logical_not(tf.math.equal(real, 0))\n",
    "  loss_ = loss_object(real, pred)\n",
    "\n",
    "  mask = tf.cast(mask, dtype=loss_.dtype)\n",
    "  loss_ *= mask\n",
    "\n",
    "  return tf.reduce_sum(loss_)/tf.reduce_sum(mask)\n",
    "\n",
    "\n",
    "def accuracy_function(real, pred):\n",
    "  accuracies = tf.equal(real, tf.argmax(pred, axis=2))\n",
    "\n",
    "  mask = tf.math.logical_not(tf.math.equal(real, 0))\n",
    "  accuracies = tf.math.logical_and(mask, accuracies)\n",
    "\n",
    "  accuracies = tf.cast(accuracies, dtype=tf.float32)\n",
    "  mask = tf.cast(mask, dtype=tf.float32)\n",
    "  return tf.reduce_sum(accuracies)/tf.reduce_sum(mask)"
   ]
  },
  {
   "cell_type": "code",
   "execution_count": 61,
   "id": "0906b1fa",
   "metadata": {},
   "outputs": [],
   "source": [
    "train_loss = tf.keras.metrics.Mean(name='train_loss')\n",
    "train_accuracy = tf.keras.metrics.Mean(name='train_accuracy')"
   ]
  },
  {
   "cell_type": "code",
   "execution_count": 62,
   "id": "e3a3ee56",
   "metadata": {},
   "outputs": [],
   "source": [
    "############### Training and checkpointing ################\n",
    "\n",
    "transformer = Transformer(\n",
    "    num_layers=num_layers,\n",
    "    d_model=d_model,\n",
    "    num_heads=num_heads,\n",
    "    dff=dff,\n",
    "    input_vocab_size=tokenizers.pt.get_vocab_size().numpy(),\n",
    "    target_vocab_size=tokenizers.en.get_vocab_size().numpy(),\n",
    "    rate=dropout_rate)"
   ]
  },
  {
   "cell_type": "code",
   "execution_count": 63,
   "id": "3bdf6c6a",
   "metadata": {},
   "outputs": [],
   "source": [
    "checkpoint_path = './checkpoints/train'\n",
    "\n",
    "ckpt = tf.train.Checkpoint(transformer=transformer,\n",
    "                           optimizer=optimizer)\n",
    "\n",
    "ckpt_manager = tf.train.CheckpointManager(ckpt, checkpoint_path, max_to_keep=5)\n",
    "\n",
    "# if a checkpoint exists, restore the latest checkpoint.\n",
    "if ckpt_manager.latest_checkpoint:\n",
    "  ckpt.restore(ckpt_manager.latest_checkpoint)\n",
    "  print('Latest checkpoint restored!!')"
   ]
  },
  {
   "cell_type": "code",
   "execution_count": 64,
   "id": "2cb7b32e",
   "metadata": {},
   "outputs": [],
   "source": [
    "# The @tf.function trace-compiles train_step into a TF graph for faster\n",
    "# execution. The function specializes to the precise shape of the argument\n",
    "# tensors. To avoid re-tracing due to the variable sequence lengths or variable\n",
    "# batch sizes (the last batch is smaller), use input_signature to specify\n",
    "# more generic shapes.\n",
    "\n",
    "train_step_signature = [\n",
    "    tf.TensorSpec(shape=(None, None), dtype=tf.int64),\n",
    "    tf.TensorSpec(shape=(None, None), dtype=tf.int64),\n",
    "]\n",
    "\n",
    "\n",
    "@tf.function(input_signature=train_step_signature)\n",
    "def train_step(inp, tar):\n",
    "  tar_inp = tar[:, :-1]\n",
    "  tar_real = tar[:, 1:]\n",
    "\n",
    "  with tf.GradientTape() as tape:\n",
    "    predictions, _ = transformer([inp, tar_inp],\n",
    "                                 training = True)\n",
    "    loss = loss_function(tar_real, predictions)\n",
    "\n",
    "  gradients = tape.gradient(loss, transformer.trainable_variables)\n",
    "  optimizer.apply_gradients(zip(gradients, transformer.trainable_variables))\n",
    "\n",
    "  train_loss(loss)\n",
    "  train_accuracy(accuracy_function(tar_real, predictions))"
   ]
  },
  {
   "cell_type": "code",
   "execution_count": 65,
   "id": "ffafd572",
   "metadata": {},
   "outputs": [
    {
     "name": "stdout",
     "output_type": "stream",
     "text": [
      "Epoch 1 Batch 0 Loss 8.8975 Accuracy 0.0000\n",
      "Epoch 1 Batch 50 Loss 8.8389 Accuracy 0.0006\n",
      "Epoch 1 Batch 100 Loss 8.7311 Accuracy 0.0209\n",
      "Epoch 1 Batch 150 Loss 8.6133 Accuracy 0.0296\n",
      "Epoch 1 Batch 200 Loss 8.4702 Accuracy 0.0340\n",
      "Epoch 1 Batch 250 Loss 8.2981 Accuracy 0.0372\n",
      "Epoch 1 Batch 300 Loss 8.1042 Accuracy 0.0449\n",
      "Epoch 1 Batch 350 Loss 7.9051 Accuracy 0.0516\n",
      "Epoch 1 Batch 400 Loss 7.7161 Accuracy 0.0577\n",
      "Epoch 1 Batch 450 Loss 7.5472 Accuracy 0.0649\n",
      "Epoch 1 Batch 500 Loss 7.3981 Accuracy 0.0723\n",
      "Epoch 1 Batch 550 Loss 7.2647 Accuracy 0.0796\n",
      "Epoch 1 Batch 600 Loss 7.1400 Accuracy 0.0871\n",
      "Epoch 1 Batch 650 Loss 7.0244 Accuracy 0.0944\n",
      "Epoch 1 Loss 6.9219 Accuracy 0.1010\n",
      "Time taken for 1 epoch: 689.20 secs\n",
      "\n",
      "Epoch 2 Batch 0 Loss 5.5988 Accuracy 0.1645\n",
      "Epoch 2 Batch 50 Loss 5.4502 Accuracy 0.1945\n",
      "Epoch 2 Batch 100 Loss 5.3868 Accuracy 0.1982\n",
      "Epoch 2 Batch 150 Loss 5.3362 Accuracy 0.2031\n",
      "Epoch 2 Batch 200 Loss 5.3065 Accuracy 0.2058\n",
      "Epoch 2 Batch 250 Loss 5.2685 Accuracy 0.2100\n",
      "Epoch 2 Batch 300 Loss 5.2375 Accuracy 0.2133\n",
      "Epoch 2 Batch 350 Loss 5.2074 Accuracy 0.2165\n",
      "Epoch 2 Batch 400 Loss 5.1769 Accuracy 0.2193\n",
      "Epoch 2 Batch 450 Loss 5.1528 Accuracy 0.2217\n",
      "Epoch 2 Batch 500 Loss 5.1320 Accuracy 0.2239\n",
      "Epoch 2 Batch 550 Loss 5.1083 Accuracy 0.2263\n",
      "Epoch 2 Batch 600 Loss 5.0870 Accuracy 0.2285\n",
      "Epoch 2 Batch 650 Loss 5.0644 Accuracy 0.2307\n",
      "Epoch 2 Batch 700 Loss 5.0446 Accuracy 0.2327\n",
      "Epoch 2 Loss 5.0437 Accuracy 0.2328\n",
      "Time taken for 1 epoch: 665.80 secs\n",
      "\n",
      "Epoch 3 Batch 0 Loss 4.7863 Accuracy 0.2523\n",
      "Epoch 3 Batch 50 Loss 4.6968 Accuracy 0.2641\n",
      "Epoch 3 Batch 100 Loss 4.6910 Accuracy 0.2647\n",
      "Epoch 3 Batch 150 Loss 4.6845 Accuracy 0.2651\n",
      "Epoch 3 Batch 200 Loss 4.6763 Accuracy 0.2658\n",
      "Epoch 3 Batch 250 Loss 4.6609 Accuracy 0.2672\n",
      "Epoch 3 Batch 300 Loss 4.6494 Accuracy 0.2677\n",
      "Epoch 3 Batch 350 Loss 4.6387 Accuracy 0.2686\n",
      "Epoch 3 Batch 400 Loss 4.6249 Accuracy 0.2700\n",
      "Epoch 3 Batch 450 Loss 4.6129 Accuracy 0.2708\n",
      "Epoch 3 Batch 500 Loss 4.5972 Accuracy 0.2725\n",
      "Epoch 3 Batch 550 Loss 4.5810 Accuracy 0.2744\n",
      "Epoch 3 Batch 600 Loss 4.5689 Accuracy 0.2758\n",
      "Epoch 3 Batch 650 Loss 4.5553 Accuracy 0.2774\n",
      "Epoch 3 Batch 700 Loss 4.5409 Accuracy 0.2791\n",
      "Epoch 3 Loss 4.5402 Accuracy 0.2792\n",
      "Time taken for 1 epoch: 659.96 secs\n",
      "\n",
      "Epoch 4 Batch 0 Loss 4.4251 Accuracy 0.2742\n",
      "Epoch 4 Batch 50 Loss 4.2819 Accuracy 0.3044\n",
      "Epoch 4 Batch 100 Loss 4.2714 Accuracy 0.3078\n",
      "Epoch 4 Batch 150 Loss 4.2506 Accuracy 0.3109\n",
      "Epoch 4 Batch 200 Loss 4.2234 Accuracy 0.3136\n",
      "Epoch 4 Batch 250 Loss 4.2004 Accuracy 0.3166\n",
      "Epoch 4 Batch 300 Loss 4.1830 Accuracy 0.3188\n",
      "Epoch 4 Batch 350 Loss 4.1660 Accuracy 0.3210\n",
      "Epoch 4 Batch 400 Loss 4.1469 Accuracy 0.3234\n",
      "Epoch 4 Batch 450 Loss 4.1288 Accuracy 0.3259\n",
      "Epoch 4 Batch 500 Loss 4.1145 Accuracy 0.3278\n",
      "Epoch 4 Batch 550 Loss 4.1011 Accuracy 0.3295\n",
      "Epoch 4 Batch 600 Loss 4.0858 Accuracy 0.3315\n",
      "Epoch 4 Batch 650 Loss 4.0677 Accuracy 0.3339\n",
      "Epoch 4 Loss 4.0506 Accuracy 0.3363\n",
      "Time taken for 1 epoch: 658.13 secs\n",
      "\n",
      "Epoch 5 Batch 0 Loss 3.8317 Accuracy 0.3584\n",
      "Epoch 5 Batch 50 Loss 3.7599 Accuracy 0.3683\n",
      "Epoch 5 Batch 100 Loss 3.7468 Accuracy 0.3713\n",
      "Epoch 5 Batch 150 Loss 3.7365 Accuracy 0.3723\n",
      "Epoch 5 Batch 200 Loss 3.7220 Accuracy 0.3747\n",
      "Epoch 5 Batch 250 Loss 3.7061 Accuracy 0.3772\n",
      "Epoch 5 Batch 300 Loss 3.6931 Accuracy 0.3788\n",
      "Epoch 5 Batch 350 Loss 3.6860 Accuracy 0.3797\n",
      "Epoch 5 Batch 400 Loss 3.6704 Accuracy 0.3818\n",
      "Epoch 5 Batch 450 Loss 3.6586 Accuracy 0.3836\n",
      "Epoch 5 Batch 500 Loss 3.6458 Accuracy 0.3852\n",
      "Epoch 5 Batch 550 Loss 3.6345 Accuracy 0.3866\n",
      "Epoch 5 Batch 600 Loss 3.6271 Accuracy 0.3876\n",
      "Epoch 5 Batch 650 Loss 3.6114 Accuracy 0.3896\n",
      "Saving checkpoint for epoch 5 at ./checkpoints/train/ckpt-1\n",
      "Epoch 5 Loss 3.6030 Accuracy 0.3909\n",
      "Time taken for 1 epoch: 659.54 secs\n",
      "\n",
      "Epoch 6 Batch 0 Loss 3.2352 Accuracy 0.4586\n",
      "Epoch 6 Batch 50 Loss 3.3675 Accuracy 0.4166\n",
      "Epoch 6 Batch 100 Loss 3.3407 Accuracy 0.4212\n",
      "Epoch 6 Batch 150 Loss 3.3291 Accuracy 0.4222\n",
      "Epoch 6 Batch 200 Loss 3.3179 Accuracy 0.4238\n",
      "Epoch 6 Batch 250 Loss 3.3107 Accuracy 0.4247\n",
      "Epoch 6 Batch 300 Loss 3.3049 Accuracy 0.4253\n",
      "Epoch 6 Batch 350 Loss 3.2975 Accuracy 0.4265\n",
      "Epoch 6 Batch 400 Loss 3.2866 Accuracy 0.4280\n",
      "Epoch 6 Batch 450 Loss 3.2796 Accuracy 0.4288\n",
      "Epoch 6 Batch 500 Loss 3.2728 Accuracy 0.4298\n",
      "Epoch 6 Batch 550 Loss 3.2623 Accuracy 0.4314\n",
      "Epoch 6 Batch 600 Loss 3.2566 Accuracy 0.4322\n",
      "Epoch 6 Batch 650 Loss 3.2464 Accuracy 0.4336\n",
      "Epoch 6 Batch 700 Loss 3.2383 Accuracy 0.4348\n",
      "Epoch 6 Loss 3.2377 Accuracy 0.4349\n",
      "Time taken for 1 epoch: 660.09 secs\n",
      "\n",
      "Epoch 7 Batch 0 Loss 3.0297 Accuracy 0.4546\n",
      "Epoch 7 Batch 50 Loss 2.9837 Accuracy 0.4609\n",
      "Epoch 7 Batch 100 Loss 2.9801 Accuracy 0.4638\n",
      "Epoch 7 Batch 150 Loss 2.9677 Accuracy 0.4660\n",
      "Epoch 7 Batch 200 Loss 2.9571 Accuracy 0.4682\n",
      "Epoch 7 Batch 250 Loss 2.9509 Accuracy 0.4691\n",
      "Epoch 7 Batch 300 Loss 2.9451 Accuracy 0.4699\n",
      "Epoch 7 Batch 350 Loss 2.9409 Accuracy 0.4706\n",
      "Epoch 7 Batch 400 Loss 2.9346 Accuracy 0.4714\n",
      "Epoch 7 Batch 450 Loss 2.9261 Accuracy 0.4727\n",
      "Epoch 7 Batch 500 Loss 2.9172 Accuracy 0.4742\n",
      "Epoch 7 Batch 550 Loss 2.9111 Accuracy 0.4754\n",
      "Epoch 7 Batch 600 Loss 2.9037 Accuracy 0.4765\n",
      "Epoch 7 Batch 650 Loss 2.8934 Accuracy 0.4780\n",
      "Epoch 7 Batch 700 Loss 2.8857 Accuracy 0.4791\n",
      "Epoch 7 Loss 2.8848 Accuracy 0.4792\n",
      "Time taken for 1 epoch: 656.82 secs\n",
      "\n",
      "Epoch 8 Batch 0 Loss 2.7460 Accuracy 0.4891\n",
      "Epoch 8 Batch 50 Loss 2.6632 Accuracy 0.5043\n",
      "Epoch 8 Batch 100 Loss 2.6479 Accuracy 0.5074\n",
      "Epoch 8 Batch 150 Loss 2.6353 Accuracy 0.5096\n",
      "Epoch 8 Batch 200 Loss 2.6453 Accuracy 0.5083\n",
      "Epoch 8 Batch 250 Loss 2.6376 Accuracy 0.5095\n",
      "Epoch 8 Batch 300 Loss 2.6317 Accuracy 0.5106\n",
      "Epoch 8 Batch 350 Loss 2.6287 Accuracy 0.5109\n",
      "Epoch 8 Batch 400 Loss 2.6239 Accuracy 0.5118\n",
      "Epoch 8 Batch 450 Loss 2.6142 Accuracy 0.5134\n",
      "Epoch 8 Batch 500 Loss 2.6108 Accuracy 0.5139\n",
      "Epoch 8 Batch 550 Loss 2.6101 Accuracy 0.5139\n",
      "Epoch 8 Batch 600 Loss 2.6059 Accuracy 0.5146\n",
      "Epoch 8 Batch 650 Loss 2.6024 Accuracy 0.5153\n",
      "Epoch 8 Batch 700 Loss 2.6019 Accuracy 0.5156\n",
      "Epoch 8 Loss 2.6023 Accuracy 0.5155\n",
      "Time taken for 1 epoch: 660.35 secs\n",
      "\n",
      "Epoch 9 Batch 0 Loss 2.2285 Accuracy 0.5680\n",
      "Epoch 9 Batch 50 Loss 2.4340 Accuracy 0.5348\n",
      "Epoch 9 Batch 100 Loss 2.4087 Accuracy 0.5396\n",
      "Epoch 9 Batch 150 Loss 2.4122 Accuracy 0.5397\n",
      "Epoch 9 Batch 200 Loss 2.4150 Accuracy 0.5394\n",
      "Epoch 9 Batch 250 Loss 2.4081 Accuracy 0.5402\n",
      "Epoch 9 Batch 300 Loss 2.4072 Accuracy 0.5403\n",
      "Epoch 9 Batch 350 Loss 2.4004 Accuracy 0.5413\n",
      "Epoch 9 Batch 400 Loss 2.4012 Accuracy 0.5411\n",
      "Epoch 9 Batch 450 Loss 2.3995 Accuracy 0.5415\n",
      "Epoch 9 Batch 500 Loss 2.3986 Accuracy 0.5418\n",
      "Epoch 9 Batch 550 Loss 2.3955 Accuracy 0.5422\n",
      "Epoch 9 Batch 600 Loss 2.3965 Accuracy 0.5423\n",
      "Epoch 9 Batch 650 Loss 2.3968 Accuracy 0.5423\n",
      "Epoch 9 Loss 2.3962 Accuracy 0.5424\n",
      "Time taken for 1 epoch: 655.07 secs\n",
      "\n",
      "Epoch 10 Batch 0 Loss 2.3833 Accuracy 0.5463\n",
      "Epoch 10 Batch 50 Loss 2.2536 Accuracy 0.5611\n",
      "Epoch 10 Batch 100 Loss 2.2378 Accuracy 0.5630\n",
      "Epoch 10 Batch 150 Loss 2.2396 Accuracy 0.5628\n",
      "Epoch 10 Batch 200 Loss 2.2354 Accuracy 0.5638\n",
      "Epoch 10 Batch 250 Loss 2.2350 Accuracy 0.5641\n",
      "Epoch 10 Batch 300 Loss 2.2302 Accuracy 0.5650\n",
      "Epoch 10 Batch 350 Loss 2.2294 Accuracy 0.5651\n",
      "Epoch 10 Batch 400 Loss 2.2287 Accuracy 0.5655\n",
      "Epoch 10 Batch 450 Loss 2.2291 Accuracy 0.5656\n",
      "Epoch 10 Batch 500 Loss 2.2293 Accuracy 0.5658\n",
      "Epoch 10 Batch 550 Loss 2.2335 Accuracy 0.5652\n",
      "Epoch 10 Batch 600 Loss 2.2333 Accuracy 0.5656\n",
      "Epoch 10 Batch 650 Loss 2.2362 Accuracy 0.5652\n",
      "Saving checkpoint for epoch 10 at ./checkpoints/train/ckpt-2\n",
      "Epoch 10 Loss 2.2361 Accuracy 0.5654\n",
      "Time taken for 1 epoch: 658.45 secs\n",
      "\n",
      "Epoch 11 Batch 0 Loss 2.2026 Accuracy 0.5564\n",
      "Epoch 11 Batch 50 Loss 2.0893 Accuracy 0.5846\n",
      "Epoch 11 Batch 100 Loss 2.1087 Accuracy 0.5813\n",
      "Epoch 11 Batch 150 Loss 2.0992 Accuracy 0.5826\n",
      "Epoch 11 Batch 200 Loss 2.1059 Accuracy 0.5822\n",
      "Epoch 11 Batch 250 Loss 2.1080 Accuracy 0.5822\n",
      "Epoch 11 Batch 300 Loss 2.1091 Accuracy 0.5820\n",
      "Epoch 11 Batch 350 Loss 2.1099 Accuracy 0.5819\n",
      "Epoch 11 Batch 400 Loss 2.1088 Accuracy 0.5821\n",
      "Epoch 11 Batch 450 Loss 2.1053 Accuracy 0.5827\n",
      "Epoch 11 Batch 500 Loss 2.1088 Accuracy 0.5822\n",
      "Epoch 11 Batch 550 Loss 2.1089 Accuracy 0.5825\n",
      "Epoch 11 Batch 600 Loss 2.1095 Accuracy 0.5823\n",
      "Epoch 11 Batch 650 Loss 2.1089 Accuracy 0.5826\n",
      "Epoch 11 Batch 700 Loss 2.1084 Accuracy 0.5829\n"
     ]
    },
    {
     "name": "stdout",
     "output_type": "stream",
     "text": [
      "Epoch 11 Loss 2.1081 Accuracy 0.5830\n",
      "Time taken for 1 epoch: 663.87 secs\n",
      "\n",
      "Epoch 12 Batch 0 Loss 1.9835 Accuracy 0.5980\n",
      "Epoch 12 Batch 50 Loss 1.9996 Accuracy 0.5969\n",
      "Epoch 12 Batch 100 Loss 1.9989 Accuracy 0.5962\n",
      "Epoch 12 Batch 150 Loss 1.9922 Accuracy 0.5979\n",
      "Epoch 12 Batch 200 Loss 1.9909 Accuracy 0.5980\n",
      "Epoch 12 Batch 250 Loss 1.9900 Accuracy 0.5984\n",
      "Epoch 12 Batch 300 Loss 1.9920 Accuracy 0.5981\n",
      "Epoch 12 Batch 350 Loss 1.9933 Accuracy 0.5979\n",
      "Epoch 12 Batch 400 Loss 1.9918 Accuracy 0.5980\n",
      "Epoch 12 Batch 450 Loss 1.9934 Accuracy 0.5979\n",
      "Epoch 12 Batch 500 Loss 1.9953 Accuracy 0.5978\n",
      "Epoch 12 Batch 550 Loss 1.9945 Accuracy 0.5982\n",
      "Epoch 12 Batch 600 Loss 1.9954 Accuracy 0.5982\n",
      "Epoch 12 Batch 650 Loss 1.9960 Accuracy 0.5982\n",
      "Epoch 12 Loss 1.9955 Accuracy 0.5984\n",
      "Time taken for 1 epoch: 654.37 secs\n",
      "\n",
      "Epoch 13 Batch 0 Loss 1.7162 Accuracy 0.6365\n",
      "Epoch 13 Batch 50 Loss 1.8768 Accuracy 0.6168\n",
      "Epoch 13 Batch 100 Loss 1.8799 Accuracy 0.6145\n",
      "Epoch 13 Batch 150 Loss 1.8931 Accuracy 0.6129\n",
      "Epoch 13 Batch 200 Loss 1.8895 Accuracy 0.6139\n",
      "Epoch 13 Batch 250 Loss 1.8919 Accuracy 0.6137\n",
      "Epoch 13 Batch 300 Loss 1.8943 Accuracy 0.6134\n",
      "Epoch 13 Batch 350 Loss 1.8960 Accuracy 0.6130\n",
      "Epoch 13 Batch 400 Loss 1.8974 Accuracy 0.6127\n",
      "Epoch 13 Batch 450 Loss 1.8984 Accuracy 0.6124\n",
      "Epoch 13 Batch 500 Loss 1.9014 Accuracy 0.6121\n",
      "Epoch 13 Batch 550 Loss 1.9040 Accuracy 0.6118\n",
      "Epoch 13 Batch 600 Loss 1.9052 Accuracy 0.6118\n",
      "Epoch 13 Batch 650 Loss 1.9063 Accuracy 0.6119\n",
      "Epoch 13 Batch 700 Loss 1.9084 Accuracy 0.6117\n",
      "Epoch 13 Loss 1.9083 Accuracy 0.6117\n",
      "Time taken for 1 epoch: 665.25 secs\n",
      "\n",
      "Epoch 14 Batch 0 Loss 1.6107 Accuracy 0.6396\n",
      "Epoch 14 Batch 50 Loss 1.7711 Accuracy 0.6294\n",
      "Epoch 14 Batch 100 Loss 1.7852 Accuracy 0.6286\n",
      "Epoch 14 Batch 150 Loss 1.8042 Accuracy 0.6263\n",
      "Epoch 14 Batch 200 Loss 1.8103 Accuracy 0.6255\n",
      "Epoch 14 Batch 250 Loss 1.8105 Accuracy 0.6255\n",
      "Epoch 14 Batch 300 Loss 1.8157 Accuracy 0.6244\n",
      "Epoch 14 Batch 350 Loss 1.8187 Accuracy 0.6239\n",
      "Epoch 14 Batch 400 Loss 1.8197 Accuracy 0.6235\n",
      "Epoch 14 Batch 450 Loss 1.8196 Accuracy 0.6235\n",
      "Epoch 14 Batch 500 Loss 1.8219 Accuracy 0.6235\n",
      "Epoch 14 Batch 550 Loss 1.8248 Accuracy 0.6232\n",
      "Epoch 14 Batch 600 Loss 1.8265 Accuracy 0.6233\n",
      "Epoch 14 Batch 650 Loss 1.8286 Accuracy 0.6229\n",
      "Epoch 14 Loss 1.8307 Accuracy 0.6227\n",
      "Time taken for 1 epoch: 661.76 secs\n",
      "\n",
      "Epoch 15 Batch 0 Loss 1.7060 Accuracy 0.6379\n",
      "Epoch 15 Batch 50 Loss 1.7500 Accuracy 0.6333\n",
      "Epoch 15 Batch 100 Loss 1.7333 Accuracy 0.6362\n",
      "Epoch 15 Batch 150 Loss 1.7256 Accuracy 0.6381\n",
      "Epoch 15 Batch 200 Loss 1.7295 Accuracy 0.6376\n",
      "Epoch 15 Batch 250 Loss 1.7336 Accuracy 0.6367\n",
      "Epoch 15 Batch 300 Loss 1.7383 Accuracy 0.6360\n",
      "Epoch 15 Batch 350 Loss 1.7417 Accuracy 0.6354\n",
      "Epoch 15 Batch 400 Loss 1.7449 Accuracy 0.6351\n",
      "Epoch 15 Batch 450 Loss 1.7479 Accuracy 0.6348\n",
      "Epoch 15 Batch 500 Loss 1.7517 Accuracy 0.6341\n",
      "Epoch 15 Batch 550 Loss 1.7534 Accuracy 0.6339\n",
      "Epoch 15 Batch 600 Loss 1.7558 Accuracy 0.6335\n",
      "Epoch 15 Batch 650 Loss 1.7585 Accuracy 0.6331\n",
      "Saving checkpoint for epoch 15 at ./checkpoints/train/ckpt-3\n",
      "Epoch 15 Loss 1.7623 Accuracy 0.6327\n",
      "Time taken for 1 epoch: 658.35 secs\n",
      "\n",
      "Epoch 16 Batch 0 Loss 1.5587 Accuracy 0.6633\n",
      "Epoch 16 Batch 50 Loss 1.6723 Accuracy 0.6439\n",
      "Epoch 16 Batch 100 Loss 1.6731 Accuracy 0.6448\n",
      "Epoch 16 Batch 150 Loss 1.6790 Accuracy 0.6442\n",
      "Epoch 16 Batch 200 Loss 1.6835 Accuracy 0.6435\n",
      "Epoch 16 Batch 250 Loss 1.6840 Accuracy 0.6431\n",
      "Epoch 16 Batch 300 Loss 1.6837 Accuracy 0.6431\n",
      "Epoch 16 Batch 350 Loss 1.6847 Accuracy 0.6432\n",
      "Epoch 16 Batch 400 Loss 1.6875 Accuracy 0.6431\n",
      "Epoch 16 Batch 450 Loss 1.6889 Accuracy 0.6429\n",
      "Epoch 16 Batch 500 Loss 1.6911 Accuracy 0.6428\n",
      "Epoch 16 Batch 550 Loss 1.6963 Accuracy 0.6420\n",
      "Epoch 16 Batch 600 Loss 1.6993 Accuracy 0.6415\n",
      "Epoch 16 Batch 650 Loss 1.7028 Accuracy 0.6410\n",
      "Epoch 16 Batch 700 Loss 1.7055 Accuracy 0.6407\n",
      "Epoch 16 Loss 1.7045 Accuracy 0.6409\n",
      "Time taken for 1 epoch: 667.57 secs\n",
      "\n",
      "Epoch 17 Batch 0 Loss 1.6585 Accuracy 0.6519\n",
      "Epoch 17 Batch 50 Loss 1.6071 Accuracy 0.6571\n",
      "Epoch 17 Batch 100 Loss 1.6035 Accuracy 0.6579\n",
      "Epoch 17 Batch 150 Loss 1.6091 Accuracy 0.6563\n",
      "Epoch 17 Batch 200 Loss 1.6149 Accuracy 0.6551\n",
      "Epoch 17 Batch 250 Loss 1.6220 Accuracy 0.6537\n",
      "Epoch 17 Batch 300 Loss 1.6221 Accuracy 0.6539\n",
      "Epoch 17 Batch 350 Loss 1.6273 Accuracy 0.6529\n",
      "Epoch 17 Batch 400 Loss 1.6291 Accuracy 0.6525\n",
      "Epoch 17 Batch 450 Loss 1.6330 Accuracy 0.6521\n",
      "Epoch 17 Batch 500 Loss 1.6345 Accuracy 0.6520\n",
      "Epoch 17 Batch 550 Loss 1.6403 Accuracy 0.6511\n",
      "Epoch 17 Batch 600 Loss 1.6414 Accuracy 0.6510\n",
      "Epoch 17 Batch 650 Loss 1.6442 Accuracy 0.6506\n",
      "Epoch 17 Batch 700 Loss 1.6490 Accuracy 0.6498\n",
      "Epoch 17 Loss 1.6490 Accuracy 0.6499\n",
      "Time taken for 1 epoch: 666.30 secs\n",
      "\n",
      "Epoch 18 Batch 0 Loss 1.4678 Accuracy 0.6682\n",
      "Epoch 18 Batch 50 Loss 1.5395 Accuracy 0.6660\n",
      "Epoch 18 Batch 100 Loss 1.5419 Accuracy 0.6660\n",
      "Epoch 18 Batch 150 Loss 1.5474 Accuracy 0.6656\n",
      "Epoch 18 Batch 200 Loss 1.5475 Accuracy 0.6658\n",
      "Epoch 18 Batch 250 Loss 1.5558 Accuracy 0.6640\n",
      "Epoch 18 Batch 300 Loss 1.5612 Accuracy 0.6630\n",
      "Epoch 18 Batch 350 Loss 1.5658 Accuracy 0.6624\n",
      "Epoch 18 Batch 400 Loss 1.5674 Accuracy 0.6622\n",
      "Epoch 18 Batch 450 Loss 1.5762 Accuracy 0.6608\n",
      "Epoch 18 Batch 500 Loss 1.5822 Accuracy 0.6597\n",
      "Epoch 18 Batch 550 Loss 1.5871 Accuracy 0.6590\n",
      "Epoch 18 Batch 600 Loss 1.5907 Accuracy 0.6583\n",
      "Epoch 18 Batch 650 Loss 1.5953 Accuracy 0.6578\n",
      "Epoch 18 Loss 1.5985 Accuracy 0.6573\n",
      "Time taken for 1 epoch: 655.32 secs\n",
      "\n",
      "Epoch 19 Batch 0 Loss 1.4689 Accuracy 0.6795\n",
      "Epoch 19 Batch 50 Loss 1.5073 Accuracy 0.6702\n",
      "Epoch 19 Batch 100 Loss 1.5209 Accuracy 0.6688\n",
      "Epoch 19 Batch 150 Loss 1.5232 Accuracy 0.6687\n",
      "Epoch 19 Batch 200 Loss 1.5313 Accuracy 0.6675\n",
      "Epoch 19 Batch 250 Loss 1.5304 Accuracy 0.6676\n",
      "Epoch 19 Batch 300 Loss 1.5359 Accuracy 0.6666\n",
      "Epoch 19 Batch 350 Loss 1.5378 Accuracy 0.6663\n",
      "Epoch 19 Batch 400 Loss 1.5419 Accuracy 0.6659\n",
      "Epoch 19 Batch 450 Loss 1.5447 Accuracy 0.6655\n",
      "Epoch 19 Batch 500 Loss 1.5465 Accuracy 0.6652\n",
      "Epoch 19 Batch 550 Loss 1.5497 Accuracy 0.6648\n",
      "Epoch 19 Batch 600 Loss 1.5533 Accuracy 0.6644\n",
      "Epoch 19 Batch 650 Loss 1.5562 Accuracy 0.6640\n",
      "Epoch 19 Loss 1.5587 Accuracy 0.6636\n",
      "Time taken for 1 epoch: 657.19 secs\n",
      "\n",
      "Epoch 20 Batch 0 Loss 1.3304 Accuracy 0.7222\n",
      "Epoch 20 Batch 50 Loss 1.4826 Accuracy 0.6749\n",
      "Epoch 20 Batch 100 Loss 1.4749 Accuracy 0.6766\n",
      "Epoch 20 Batch 150 Loss 1.4814 Accuracy 0.6750\n",
      "Epoch 20 Batch 200 Loss 1.4834 Accuracy 0.6748\n",
      "Epoch 20 Batch 250 Loss 1.4872 Accuracy 0.6747\n",
      "Epoch 20 Batch 300 Loss 1.4951 Accuracy 0.6732\n",
      "Epoch 20 Batch 350 Loss 1.4946 Accuracy 0.6735\n",
      "Epoch 20 Batch 400 Loss 1.5000 Accuracy 0.6728\n",
      "Epoch 20 Batch 450 Loss 1.5035 Accuracy 0.6722\n",
      "Epoch 20 Batch 500 Loss 1.5052 Accuracy 0.6720\n",
      "Epoch 20 Batch 550 Loss 1.5079 Accuracy 0.6715\n",
      "Epoch 20 Batch 600 Loss 1.5108 Accuracy 0.6712\n",
      "Epoch 20 Batch 650 Loss 1.5125 Accuracy 0.6712\n",
      "Epoch 20 Batch 700 Loss 1.5152 Accuracy 0.6707\n",
      "Saving checkpoint for epoch 20 at ./checkpoints/train/ckpt-4\n",
      "Epoch 20 Loss 1.5153 Accuracy 0.6707\n",
      "Time taken for 1 epoch: 660.32 secs\n",
      "\n"
     ]
    }
   ],
   "source": [
    "for epoch in range(EPOCHS):\n",
    "  start = time.time()\n",
    "\n",
    "  train_loss.reset_states()\n",
    "  train_accuracy.reset_states()\n",
    "\n",
    "  # inp -> portuguese, tar -> english\n",
    "  for (batch, (inp, tar)) in enumerate(train_batches):\n",
    "    train_step(inp, tar)\n",
    "\n",
    "    if batch % 50 == 0:\n",
    "      print(f'Epoch {epoch + 1} Batch {batch} Loss {train_loss.result():.4f} Accuracy {train_accuracy.result():.4f}')\n",
    "\n",
    "  if (epoch + 1) % 5 == 0:\n",
    "    ckpt_save_path = ckpt_manager.save()\n",
    "    print(f'Saving checkpoint for epoch {epoch+1} at {ckpt_save_path}')\n",
    "\n",
    "  print(f'Epoch {epoch + 1} Loss {train_loss.result():.4f} Accuracy {train_accuracy.result():.4f}')\n",
    "\n",
    "  print(f'Time taken for 1 epoch: {time.time() - start:.2f} secs\\n')"
   ]
  },
  {
   "cell_type": "code",
   "execution_count": 66,
   "id": "b2fc5765",
   "metadata": {},
   "outputs": [],
   "source": [
    "####### Run inference ########\n",
    "\n",
    "class Translator(tf.Module):\n",
    "  def __init__(self, tokenizers, transformer):\n",
    "    self.tokenizers = tokenizers\n",
    "    self.transformer = transformer\n",
    "\n",
    "  def __call__(self, sentence, max_length=MAX_TOKENS):\n",
    "    # input sentence is portuguese, hence adding the start and end token\n",
    "    assert isinstance(sentence, tf.Tensor)\n",
    "    if len(sentence.shape) == 0:\n",
    "      sentence = sentence[tf.newaxis]\n",
    "\n",
    "    sentence = self.tokenizers.pt.tokenize(sentence).to_tensor()\n",
    "\n",
    "    encoder_input = sentence\n",
    "\n",
    "    # As the output language is english, initialize the output with the\n",
    "    # english start token.\n",
    "    start_end = self.tokenizers.en.tokenize([''])[0]\n",
    "    start = start_end[0][tf.newaxis]\n",
    "    end = start_end[1][tf.newaxis]\n",
    "\n",
    "    # `tf.TensorArray` is required here (instead of a python list) so that the\n",
    "    # dynamic-loop can be traced by `tf.function`.\n",
    "    output_array = tf.TensorArray(dtype=tf.int64, size=0, dynamic_size=True)\n",
    "    output_array = output_array.write(0, start)\n",
    "\n",
    "    for i in tf.range(max_length):\n",
    "      output = tf.transpose(output_array.stack())\n",
    "      predictions, _ = self.transformer([encoder_input, output], training=False)\n",
    "\n",
    "      # select the last token from the seq_len dimension\n",
    "      predictions = predictions[:, -1:, :]  # (batch_size, 1, vocab_size)\n",
    "\n",
    "      predicted_id = tf.argmax(predictions, axis=-1)\n",
    "\n",
    "      # concatentate the predicted_id to the output which is given to the decoder\n",
    "      # as its input.\n",
    "      output_array = output_array.write(i+1, predicted_id[0])\n",
    "\n",
    "      if predicted_id == end:\n",
    "        break\n",
    "\n",
    "    output = tf.transpose(output_array.stack())\n",
    "    # output.shape (1, tokens)\n",
    "    text = tokenizers.en.detokenize(output)[0]  # shape: ()\n",
    "\n",
    "    tokens = tokenizers.en.lookup(output)[0]\n",
    "\n",
    "    # `tf.function` prevents us from using the attention_weights that were\n",
    "    # calculated on the last iteration of the loop. So recalculate them outside\n",
    "    # the loop.\n",
    "    _, attention_weights = self.transformer([encoder_input, output[:,:-1]], training=False)\n",
    "\n",
    "    return text, tokens, attention_weights"
   ]
  },
  {
   "cell_type": "code",
   "execution_count": 67,
   "id": "4a84db94",
   "metadata": {},
   "outputs": [],
   "source": [
    "translator = Translator(tokenizers, transformer)"
   ]
  },
  {
   "cell_type": "code",
   "execution_count": 68,
   "id": "f50a7158",
   "metadata": {},
   "outputs": [],
   "source": [
    "def print_translation(sentence, tokens, ground_truth):\n",
    "  print(f'{\"Input:\":15s}: {sentence}')\n",
    "  print(f'{\"Prediction\":15s}: {tokens.numpy().decode(\"utf-8\")}')\n",
    "  print(f'{\"Ground truth\":15s}: {ground_truth}')"
   ]
  },
  {
   "cell_type": "code",
   "execution_count": 69,
   "id": "dd619fbb",
   "metadata": {},
   "outputs": [
    {
     "name": "stdout",
     "output_type": "stream",
     "text": [
      "Input:         : este é um problema que temos que resolver.\n",
      "Prediction     : this is a problem that we have to solve .\n",
      "Ground truth   : this is a problem we have to solve .\n"
     ]
    }
   ],
   "source": [
    "sentence = 'este é um problema que temos que resolver.'\n",
    "ground_truth = 'this is a problem we have to solve .'\n",
    "\n",
    "translated_text, translated_tokens, attention_weights = translator(\n",
    "    tf.constant(sentence))\n",
    "print_translation(sentence, translated_text, ground_truth)"
   ]
  },
  {
   "cell_type": "code",
   "execution_count": 70,
   "id": "006ba55b",
   "metadata": {},
   "outputs": [
    {
     "name": "stdout",
     "output_type": "stream",
     "text": [
      "Input:         : os meus vizinhos ouviram sobre esta ideia.\n",
      "Prediction     : my neighbors heard about this idea .\n",
      "Ground truth   : and my neighboring homes heard about this idea .\n"
     ]
    }
   ],
   "source": [
    "sentence = 'os meus vizinhos ouviram sobre esta ideia.'\n",
    "ground_truth = 'and my neighboring homes heard about this idea .'\n",
    "\n",
    "translated_text, translated_tokens, attention_weights = translator(\n",
    "    tf.constant(sentence))\n",
    "print_translation(sentence, translated_text, ground_truth)"
   ]
  },
  {
   "cell_type": "code",
   "execution_count": 71,
   "id": "b5f6c355",
   "metadata": {},
   "outputs": [
    {
     "name": "stdout",
     "output_type": "stream",
     "text": [
      "Input:         : vou então muito rapidamente partilhar convosco algumas histórias de algumas coisas mágicas que aconteceram.\n",
      "Prediction     : so i ' m going to go very quickly to share with you some stories of some magic things that happened .\n",
      "Ground truth   : so i'll just share with you some stories very quickly of some magical things that have happened.\n"
     ]
    }
   ],
   "source": [
    "sentence = 'vou então muito rapidamente partilhar convosco algumas histórias de algumas coisas mágicas que aconteceram.'\n",
    "ground_truth = \"so i'll just share with you some stories very quickly of some magical things that have happened.\"\n",
    "\n",
    "translated_text, translated_tokens, attention_weights = translator(\n",
    "    tf.constant(sentence))\n",
    "print_translation(sentence, translated_text, ground_truth)"
   ]
  },
  {
   "cell_type": "code",
   "execution_count": 72,
   "id": "2a18e94a",
   "metadata": {},
   "outputs": [
    {
     "name": "stdout",
     "output_type": "stream",
     "text": [
      "Input:         : este é o primeiro livro que eu fiz.\n",
      "Prediction     : this is the first book i did .\n",
      "Ground truth   : this is the first book i've ever done.\n"
     ]
    }
   ],
   "source": [
    "####### Attention Plots ######\n",
    "\n",
    "sentence = 'este é o primeiro livro que eu fiz.'\n",
    "ground_truth = \"this is the first book i've ever done.\"\n",
    "\n",
    "translated_text, translated_tokens, attention_weights = translator(\n",
    "    tf.constant(sentence))\n",
    "print_translation(sentence, translated_text, ground_truth)"
   ]
  },
  {
   "cell_type": "code",
   "execution_count": 73,
   "id": "9d2b30b5",
   "metadata": {},
   "outputs": [],
   "source": [
    "def plot_attention_head(in_tokens, translated_tokens, attention):\n",
    "  # The plot is of the attention when a token was generated.\n",
    "  # The model didn't generate `<START>` in the output. Skip it.\n",
    "  translated_tokens = translated_tokens[1:]\n",
    "\n",
    "  ax = plt.gca()\n",
    "  ax.matshow(attention)\n",
    "  ax.set_xticks(range(len(in_tokens)))\n",
    "  ax.set_yticks(range(len(translated_tokens)))\n",
    "\n",
    "  labels = [label.decode('utf-8') for label in in_tokens.numpy()]\n",
    "  ax.set_xticklabels(\n",
    "      labels, rotation=90)\n",
    "\n",
    "  labels = [label.decode('utf-8') for label in translated_tokens.numpy()]\n",
    "  ax.set_yticklabels(labels)"
   ]
  },
  {
   "cell_type": "code",
   "execution_count": 74,
   "id": "ff4abae6",
   "metadata": {},
   "outputs": [
    {
     "data": {
      "text/plain": [
       "TensorShape([9, 11])"
      ]
     },
     "execution_count": 74,
     "metadata": {},
     "output_type": "execute_result"
    }
   ],
   "source": [
    "head = 0\n",
    "# shape: (batch=1, num_heads, seq_len_q, seq_len_k)\n",
    "attention_heads = tf.squeeze(\n",
    "  attention_weights['decoder_layer4_block2'], 0)\n",
    "attention = attention_heads[head]\n",
    "attention.shape"
   ]
  },
  {
   "cell_type": "code",
   "execution_count": 75,
   "id": "5d497e88",
   "metadata": {},
   "outputs": [
    {
     "data": {
      "text/plain": [
       "<tf.Tensor: shape=(11,), dtype=string, numpy=\n",
       "array([b'[START]', b'este', b'e', b'o', b'primeiro', b'livro', b'que',\n",
       "       b'eu', b'fiz', b'.', b'[END]'], dtype=object)>"
      ]
     },
     "execution_count": 75,
     "metadata": {},
     "output_type": "execute_result"
    }
   ],
   "source": [
    "in_tokens = tf.convert_to_tensor([sentence])\n",
    "in_tokens = tokenizers.pt.tokenize(in_tokens).to_tensor()\n",
    "in_tokens = tokenizers.pt.lookup(in_tokens)[0]\n",
    "in_tokens"
   ]
  },
  {
   "cell_type": "code",
   "execution_count": 76,
   "id": "28455547",
   "metadata": {},
   "outputs": [
    {
     "data": {
      "text/plain": [
       "<tf.Tensor: shape=(10,), dtype=string, numpy=\n",
       "array([b'[START]', b'this', b'is', b'the', b'first', b'book', b'i',\n",
       "       b'did', b'.', b'[END]'], dtype=object)>"
      ]
     },
     "execution_count": 76,
     "metadata": {},
     "output_type": "execute_result"
    }
   ],
   "source": [
    "translated_tokens"
   ]
  },
  {
   "cell_type": "code",
   "execution_count": 77,
   "id": "30ce4f21",
   "metadata": {},
   "outputs": [
    {
     "data": {
      "image/png": "[encoded data removed]",
      "text/plain": [
       "<Figure size 432x288 with 1 Axes>"
      ]
     },
     "metadata": {
      "needs_background": "light"
     },
     "output_type": "display_data"
    }
   ],
   "source": [
    "plot_attention_head(in_tokens, translated_tokens, attention)"
   ]
  },
  {
   "cell_type": "code",
   "execution_count": 78,
   "id": "a0485258",
   "metadata": {},
   "outputs": [],
   "source": [
    "def plot_attention_weights(sentence, translated_tokens, attention_heads):\n",
    "  in_tokens = tf.convert_to_tensor([sentence])\n",
    "  in_tokens = tokenizers.pt.tokenize(in_tokens).to_tensor()\n",
    "  in_tokens = tokenizers.pt.lookup(in_tokens)[0]\n",
    "  in_tokens\n",
    "\n",
    "  fig = plt.figure(figsize=(16, 8))\n",
    "\n",
    "  for h, head in enumerate(attention_heads):\n",
    "    ax = fig.add_subplot(2, 4, h+1)\n",
    "\n",
    "    plot_attention_head(in_tokens, translated_tokens, head)\n",
    "\n",
    "    ax.set_xlabel(f'Head {h+1}')\n",
    "\n",
    "  plt.tight_layout()\n",
    "  plt.show()"
   ]
  },
  {
   "cell_type": "code",
   "execution_count": 79,
   "id": "f2b9ed9a",
   "metadata": {},
   "outputs": [
    {
     "data": {
      "image/png": "[encoded data removed]",
      "text/plain": [
       "<Figure size 1152x576 with 8 Axes>"
      ]
     },
     "metadata": {
      "needs_background": "light"
     },
     "output_type": "display_data"
    }
   ],
   "source": [
    "plot_attention_weights(sentence, translated_tokens,\n",
    "                       attention_weights['decoder_layer4_block2'][0])"
   ]
  },
  {
   "cell_type": "code",
   "execution_count": 80,
   "id": "3d097f91",
   "metadata": {},
   "outputs": [
    {
     "name": "stdout",
     "output_type": "stream",
     "text": [
      "Input:         : Eu li sobre triceratops na enciclopédia.\n",
      "Prediction     : i read about tribarrasss in the encyclopedia .\n",
      "Ground truth   : I read about triceratops in the encyclopedia.\n"
     ]
    },
    {
     "data": {
      "image/png": "[encoded data removed]",
      "text/plain": [
       "<Figure size 1152x576 with 8 Axes>"
      ]
     },
     "metadata": {
      "needs_background": "light"
     },
     "output_type": "display_data"
    }
   ],
   "source": [
    "sentence = 'Eu li sobre triceratops na enciclopédia.'\n",
    "ground_truth = 'I read about triceratops in the encyclopedia.'\n",
    "\n",
    "translated_text, translated_tokens, attention_weights = translator(\n",
    "    tf.constant(sentence))\n",
    "print_translation(sentence, translated_text, ground_truth)\n",
    "\n",
    "plot_attention_weights(sentence, translated_tokens,\n",
    "                       attention_weights['decoder_layer4_block2'][0])"
   ]
  },
  {
   "cell_type": "code",
   "execution_count": 81,
   "id": "355b8049",
   "metadata": {},
   "outputs": [],
   "source": [
    "###### Export #######\n",
    "\n",
    "class ExportTranslator(tf.Module):\n",
    "  def __init__(self, translator):\n",
    "    self.translator = translator\n",
    "\n",
    "  @tf.function(input_signature=[tf.TensorSpec(shape=[], dtype=tf.string)])\n",
    "  def __call__(self, sentence):\n",
    "    (result,\n",
    "     tokens,\n",
    "     attention_weights) = self.translator(sentence, max_length=MAX_TOKENS)\n",
    "\n",
    "    return result"
   ]
  },
  {
   "cell_type": "code",
   "execution_count": 82,
   "id": "76da88d5",
   "metadata": {},
   "outputs": [],
   "source": [
    "translator = ExportTranslator(translator)"
   ]
  },
  {
   "cell_type": "code",
   "execution_count": 83,
   "id": "41e320be",
   "metadata": {},
   "outputs": [
    {
     "name": "stderr",
     "output_type": "stream",
     "text": [
      "2022-07-28 17:48:17.550665: W tensorflow/python/util/util.cc:368] Sets are not currently considered sequences, but this may change in the future, so consider avoiding using them.\n",
      "WARNING:absl:Found untraced functions such as embedding_6_layer_call_fn, embedding_6_layer_call_and_return_conditional_losses, dropout_59_layer_call_fn, dropout_59_layer_call_and_return_conditional_losses, embedding_7_layer_call_fn while saving (showing 5 of 224). These functions will not be directly callable after loading.\n"
     ]
    },
    {
     "data": {
      "text/plain": [
       "b'this is the first book i did .'"
      ]
     },
     "execution_count": 83,
     "metadata": {},
     "output_type": "execute_result"
    }
   ],
   "source": [
    "translator('este é o primeiro livro que eu fiz.').numpy()\n",
    "tf.saved_model.save(translator, export_dir='translator')\n",
    "reloaded = tf.saved_model.load('translator')\n",
    "reloaded('este é o primeiro livro que eu fiz.').numpy()"
   ]
  },
  {
   "cell_type": "code",
   "execution_count": null,
   "id": "a9632182",
   "metadata": {},
   "outputs": [],
   "source": []
  }
 ],
 "metadata": {
  "kernelspec": {
   "display_name": "Python [conda env:auto_encode] *",
   "language": "python",
   "name": "conda-env-auto_encode-py"
  },
  "language_info": {
   "codemirror_mode": {
    "name": "ipython",
    "version": 3
   },
   "file_extension": ".py",
   "mimetype": "text/x-python",
   "name": "python",
   "nbconvert_exporter": "python",
   "pygments_lexer": "ipython3",
   "version": "3.8.12"
  }
 },
 "nbformat": 4,
 "nbformat_minor": 5
}
